{
 "cells": [
  {
   "cell_type": "markdown",
   "metadata": {
    "id": "rwPaMupPZxCO"
   },
   "source": [
    "# 1. Loading and Preparing the Data\n",
    "Clone of the repository"
   ]
  },
  {
   "cell_type": "code",
   "execution_count": null,
   "metadata": {
    "colab": {
     "base_uri": "https://localhost:8080/"
    },
    "execution": {
     "iopub.execute_input": "2023-01-19T13:09:20.230475Z",
     "iopub.status.busy": "2023-01-19T13:09:20.229671Z"
    },
    "id": "b9dNURIrZxCV",
    "outputId": "de9e9c7d-5060-41f8-82ae-12fa0545eebf"
   },
   "outputs": [
    {
     "name": "stdout",
     "output_type": "stream",
     "text": [
      "rm: cannot remove 'FairAnnoMI': No such file or directory\n",
      "Cloning into 'FairAnnoMI'...\n",
      "remote: Enumerating objects: 125, done.\u001b[K\n",
      "remote: Counting objects: 100% (125/125), done.\u001b[K\n",
      "remote: Compressing objects: 100% (83/83), done.\u001b[K\n",
      "remote: Total 125 (delta 50), reused 96 (delta 25), pack-reused 0\u001b[K\n",
      "Receiving objects: 100% (125/125), 561.30 KiB | 1.33 MiB/s, done.\n",
      "Resolving deltas: 100% (50/50), done.\n",
      "Requirement already satisfied: pandas in /usr/local/lib/python3.9/dist-packages (1.4.3)\n",
      "Requirement already satisfied: python-dateutil>=2.8.1 in /usr/local/lib/python3.9/dist-packages (from pandas) (2.8.2)\n",
      "Requirement already satisfied: numpy>=1.18.5 in /usr/local/lib/python3.9/dist-packages (from pandas) (1.23.1)\n",
      "Requirement already satisfied: pytz>=2020.1 in /usr/local/lib/python3.9/dist-packages (from pandas) (2022.1)\n",
      "Requirement already satisfied: six>=1.5 in /usr/lib/python3/dist-packages (from python-dateutil>=2.8.1->pandas) (1.14.0)\n",
      "\u001b[33mWARNING: Running pip as the 'root' user can result in broken permissions and conflicting behaviour with the system package manager. It is recommended to use a virtual environment instead: https://pip.pypa.io/warnings/venv\u001b[0m\u001b[33m\n",
      "\u001b[0mCollecting sklearn-pandas\n",
      "  Downloading sklearn_pandas-2.2.0-py2.py3-none-any.whl (10 kB)\n",
      "Requirement already satisfied: scipy>=1.5.1 in /usr/local/lib/python3.9/dist-packages (from sklearn-pandas) (1.8.1)\n",
      "Requirement already satisfied: scikit-learn>=0.23.0 in /usr/local/lib/python3.9/dist-packages (from sklearn-pandas) (1.1.1)\n",
      "Requirement already satisfied: pandas>=1.1.4 in /usr/local/lib/python3.9/dist-packages (from sklearn-pandas) (1.4.3)\n",
      "Requirement already satisfied: numpy>=1.18.1 in /usr/local/lib/python3.9/dist-packages (from sklearn-pandas) (1.23.1)\n",
      "Requirement already satisfied: pytz>=2020.1 in /usr/local/lib/python3.9/dist-packages (from pandas>=1.1.4->sklearn-pandas) (2022.1)\n",
      "Requirement already satisfied: python-dateutil>=2.8.1 in /usr/local/lib/python3.9/dist-packages (from pandas>=1.1.4->sklearn-pandas) (2.8.2)\n",
      "Requirement already satisfied: threadpoolctl>=2.0.0 in /usr/local/lib/python3.9/dist-packages (from scikit-learn>=0.23.0->sklearn-pandas) (3.1.0)\n",
      "Requirement already satisfied: joblib>=1.0.0 in /usr/local/lib/python3.9/dist-packages (from scikit-learn>=0.23.0->sklearn-pandas) (1.1.0)\n",
      "Requirement already satisfied: six>=1.5 in /usr/lib/python3/dist-packages (from python-dateutil>=2.8.1->pandas>=1.1.4->sklearn-pandas) (1.14.0)\n",
      "Installing collected packages: sklearn-pandas\n",
      "Successfully installed sklearn-pandas-2.2.0\n",
      "\u001b[33mWARNING: Running pip as the 'root' user can result in broken permissions and conflicting behaviour with the system package manager. It is recommended to use a virtual environment instead: https://pip.pypa.io/warnings/venv\u001b[0m\u001b[33m\n",
      "\u001b[0mCollecting sklearn\n",
      "  Downloading sklearn-0.0.post1.tar.gz (3.6 kB)\n",
      "  Preparing metadata (setup.py) ... \u001b[?25ldone\n",
      "\u001b[?25hBuilding wheels for collected packages: sklearn\n",
      "  Building wheel for sklearn (setup.py) ... \u001b[?25ldone\n",
      "\u001b[?25h  Created wheel for sklearn: filename=sklearn-0.0.post1-py3-none-any.whl size=2936 sha256=fa9e7c1fa69f8fc377dc56c29a4e45f8a2e1e9beb7828236a2165c256b4f09a9\n",
      "  Stored in directory: /root/.cache/pip/wheels/f8/e0/3d/9d0c2020c44a519b9f02ab4fa6d2a4a996c98d79ab2f569fa1\n",
      "Successfully built sklearn\n",
      "Installing collected packages: sklearn\n",
      "Successfully installed sklearn-0.0.post1\n",
      "\u001b[33mWARNING: Running pip as the 'root' user can result in broken permissions and conflicting behaviour with the system package manager. It is recommended to use a virtual environment instead: https://pip.pypa.io/warnings/venv\u001b[0m\u001b[33m\n",
      "\u001b[0m"
     ]
    }
   ],
   "source": [
    "! pip install pandas\n",
    "! pip install sklearn-pandas\n",
    "! pip install sklearn"
   ]
  },
  {
   "cell_type": "code",
   "execution_count": 2,
   "metadata": {
    "colab": {
     "base_uri": "https://localhost:8080/"
    },
    "execution": {
     "iopub.execute_input": "2023-01-19T13:09:34.577403Z",
     "iopub.status.busy": "2023-01-19T13:09:34.577189Z",
     "iopub.status.idle": "2023-01-19T13:09:48.088706Z",
     "shell.execute_reply": "2023-01-19T13:09:48.087650Z",
     "shell.execute_reply.started": "2023-01-19T13:09:34.577382Z"
    },
    "id": "1uCbK0rwSUdZ",
    "outputId": "fdd00705-b9aa-4cfc-d827-a6b93d14595c"
   },
   "outputs": [
    {
     "name": "stdout",
     "output_type": "stream",
     "text": [
      "Processing ./FairAnnoMI\n",
      "  Preparing metadata (setup.py) ... \u001b[?25ldone\n",
      "\u001b[?25hRequirement already satisfied: scikit-learn in /usr/local/lib/python3.9/dist-packages (from fair-annomi==0.1.0) (1.1.1)\n",
      "Requirement already satisfied: sklearn_pandas in /usr/local/lib/python3.9/dist-packages (from fair-annomi==0.1.0) (2.2.0)\n",
      "Requirement already satisfied: numpy>=1.17.3 in /usr/local/lib/python3.9/dist-packages (from scikit-learn->fair-annomi==0.1.0) (1.23.1)\n",
      "Requirement already satisfied: joblib>=1.0.0 in /usr/local/lib/python3.9/dist-packages (from scikit-learn->fair-annomi==0.1.0) (1.1.0)\n",
      "Requirement already satisfied: threadpoolctl>=2.0.0 in /usr/local/lib/python3.9/dist-packages (from scikit-learn->fair-annomi==0.1.0) (3.1.0)\n",
      "Requirement already satisfied: scipy>=1.3.2 in /usr/local/lib/python3.9/dist-packages (from scikit-learn->fair-annomi==0.1.0) (1.8.1)\n",
      "Requirement already satisfied: pandas>=1.1.4 in /usr/local/lib/python3.9/dist-packages (from sklearn_pandas->fair-annomi==0.1.0) (1.4.3)\n",
      "Requirement already satisfied: pytz>=2020.1 in /usr/local/lib/python3.9/dist-packages (from pandas>=1.1.4->sklearn_pandas->fair-annomi==0.1.0) (2022.1)\n",
      "Requirement already satisfied: python-dateutil>=2.8.1 in /usr/local/lib/python3.9/dist-packages (from pandas>=1.1.4->sklearn_pandas->fair-annomi==0.1.0) (2.8.2)\n",
      "Requirement already satisfied: six>=1.5 in /usr/lib/python3/dist-packages (from python-dateutil>=2.8.1->pandas>=1.1.4->sklearn_pandas->fair-annomi==0.1.0) (1.14.0)\n",
      "Building wheels for collected packages: fair-annomi\n",
      "  Building wheel for fair-annomi (setup.py) ... \u001b[?25ldone\n",
      "\u001b[?25h  Created wheel for fair-annomi: filename=fair_annomi-0.1.0-py3-none-any.whl size=571501 sha256=9ce6b6b0c383d38eb5c88ce379e5a9440cf6be7ed9ca59393dfdd4fd0c16c2e1\n",
      "  Stored in directory: /tmp/pip-ephem-wheel-cache-m2wwcsw0/wheels/1c/25/bc/db8ff3ff70ab1d7278c4ba607cff9377388de1c4897e690665\n",
      "Successfully built fair-annomi\n",
      "Installing collected packages: fair-annomi\n",
      "Successfully installed fair-annomi-0.1.0\n",
      "\u001b[33mWARNING: Running pip as the 'root' user can result in broken permissions and conflicting behaviour with the system package manager. It is recommended to use a virtual environment instead: https://pip.pypa.io/warnings/venv\u001b[0m\u001b[33m\n",
      "\u001b[0m"
     ]
    }
   ],
   "source": [
    "! pip install .."
   ]
  },
  {
   "cell_type": "markdown",
   "metadata": {
    "id": "fq3pJf6VZxCY",
    "pycharm": {
     "name": "#%% md\n"
    }
   },
   "source": [
    "The class AnnoMI handles the cleaning, remapping of the topics, as well as the cleaning and\n",
    "abbreviations removal of the utterances text. First, we import the necessaries libraries"
   ]
  },
  {
   "cell_type": "code",
   "execution_count": 1,
   "metadata": {
    "execution": {
     "iopub.execute_input": "2023-01-19T13:50:54.028886Z",
     "iopub.status.busy": "2023-01-19T13:50:54.028088Z",
     "iopub.status.idle": "2023-01-19T13:50:55.149656Z",
     "shell.execute_reply": "2023-01-19T13:50:55.149100Z",
     "shell.execute_reply.started": "2023-01-19T13:50:54.028789Z"
    },
    "id": "QnhPyW2MZxCY",
    "pycharm": {
     "name": "#%%\n"
    }
   },
   "outputs": [],
   "source": [
    "import os\n",
    "import json\n",
    "import pickle\n",
    "import numpy as np\n",
    "import pandas as pd\n",
    "import sklearn\n",
    "import seaborn as sns\n",
    "import matplotlib.pyplot as plt\n",
    "%matplotlib inline\n",
    "\n",
    "from fair_annomi.data_processing.dataset import AnnoMI"
   ]
  },
  {
   "cell_type": "markdown",
   "metadata": {
    "id": "kbe78Rx2ZxCZ",
    "pycharm": {
     "name": "#%% md\n"
    }
   },
   "source": [
    "The method `prepare_new_dataset` transforms the old AnnoMI in the new one (topic remapped and\n",
    "utterances text cleaned).\n",
    "\n",
    "The method `train_test_split` splits the data in train and test (as Pandas dataframes) such\n",
    "that the topics and the `target_cols` (parameter that represents the list of columns used as\n",
    "targets for prediction, default = ['client_talk_type', 'main_therapist_behaviour']) are\n",
    "perfectly distributed in the train and test sets according to the selected `test_size`\n",
    "(default=0.2  *20%*)"
   ]
  },
  {
   "cell_type": "markdown",
   "metadata": {
    "id": "jigpvKxvEb_Z"
   },
   "source": [
    "**PARAMETERS**"
   ]
  },
  {
   "cell_type": "code",
   "execution_count": 2,
   "metadata": {
    "execution": {
     "iopub.execute_input": "2023-01-19T13:50:57.164565Z",
     "iopub.status.busy": "2023-01-19T13:50:57.163779Z",
     "iopub.status.idle": "2023-01-19T13:50:57.167430Z",
     "shell.execute_reply": "2023-01-19T13:50:57.166979Z",
     "shell.execute_reply.started": "2023-01-19T13:50:57.164537Z"
    },
    "id": "1exOJZ4gEa2w"
   },
   "outputs": [],
   "source": [
    "unprocessed = False  # if True uses unprocessed dataset (i.e., the utterance text is not cleaned) otherwise the processed dataset\n",
    "test_size = 0.2  # 20%\n",
    "min_tokens = 5\n",
    "relevance_label_field = \"mi_quality\""
   ]
  },
  {
   "cell_type": "code",
   "execution_count": 3,
   "metadata": {
    "execution": {
     "iopub.execute_input": "2023-01-19T13:50:58.555056Z",
     "iopub.status.busy": "2023-01-19T13:50:58.554337Z",
     "iopub.status.idle": "2023-01-19T13:50:58.557555Z",
     "shell.execute_reply": "2023-01-19T13:50:58.557088Z",
     "shell.execute_reply.started": "2023-01-19T13:50:58.555031Z"
    },
    "id": "OJw5qSqnEsdu"
   },
   "outputs": [],
   "source": [
    "client_col = \"client_talk_type\"\n",
    "therapist_col = \"main_therapist_behaviour\""
   ]
  },
  {
   "cell_type": "code",
   "execution_count": 4,
   "metadata": {
    "execution": {
     "iopub.execute_input": "2023-01-19T13:50:59.244724Z",
     "iopub.status.busy": "2023-01-19T13:50:59.244035Z",
     "iopub.status.idle": "2023-01-19T13:50:59.931024Z",
     "shell.execute_reply": "2023-01-19T13:50:59.930170Z",
     "shell.execute_reply.started": "2023-01-19T13:50:59.244697Z"
    },
    "id": "zHIyZl0zZxCb",
    "pycharm": {
     "name": "#%%\n"
    }
   },
   "outputs": [],
   "source": [
    "ami = AnnoMI()\n",
    "dataset = ami.unprocessed_dataset() if unprocessed else ami.processed_dataset()\n",
    "\n",
    "dataset['token_len'] = dataset['utterance_text'].str.strip().str.split(' ').apply(len)\n",
    "dataset = dataset[(dataset.token_len >= min_tokens)].reset_index(drop=True)"
   ]
  },
  {
   "cell_type": "code",
   "execution_count": 5,
   "metadata": {
    "colab": {
     "base_uri": "https://localhost:8080/",
     "height": 739
    },
    "execution": {
     "iopub.execute_input": "2023-01-19T13:51:01.513498Z",
     "iopub.status.busy": "2023-01-19T13:51:01.513203Z",
     "iopub.status.idle": "2023-01-19T13:51:02.810110Z",
     "shell.execute_reply": "2023-01-19T13:51:02.809439Z",
     "shell.execute_reply.started": "2023-01-19T13:51:01.513476Z"
    },
    "id": "Y7ty0CkgHU39",
    "outputId": "a6e268dd-c5f1-4125-81d1-d0c1e7e2dad1"
   },
   "outputs": [
    {
     "data": {
      "text/plain": [
       "<seaborn.axisgrid.PairGrid at 0x7f7fb463d460>"
      ]
     },
     "execution_count": 5,
     "metadata": {},
     "output_type": "execute_result"
    },
    {
     "data": {
      "image/png": "[encoded data removed]",
      "text/plain": [
       "<Figure size 720x720 with 16 Axes>"
      ]
     },
     "metadata": {
      "needs_background": "light"
     },
     "output_type": "display_data"
    }
   ],
   "source": [
    "g = sns.PairGrid(dataset.sort_values('token_len'))\n",
    "g.map(sns.scatterplot)"
   ]
  },
  {
   "cell_type": "code",
   "execution_count": 6,
   "metadata": {
    "colab": {
     "base_uri": "https://localhost:8080/"
    },
    "execution": {
     "iopub.execute_input": "2023-01-19T13:51:05.303979Z",
     "iopub.status.busy": "2023-01-19T13:51:05.303191Z",
     "iopub.status.idle": "2023-01-19T13:51:05.308223Z",
     "shell.execute_reply": "2023-01-19T13:51:05.307656Z",
     "shell.execute_reply.started": "2023-01-19T13:51:05.303953Z"
    },
    "id": "mmRh1v5PIkpo",
    "outputId": "96b8287d-9ab7-456a-da96-c195c87578f3"
   },
   "outputs": [
    {
     "data": {
      "text/plain": [
       "(6310, 13)"
      ]
     },
     "execution_count": 6,
     "metadata": {},
     "output_type": "execute_result"
    }
   ],
   "source": [
    "dataset.shape"
   ]
  },
  {
   "cell_type": "code",
   "execution_count": 9,
   "metadata": {
    "execution": {
     "iopub.execute_input": "2023-01-19T13:51:08.538029Z",
     "iopub.status.busy": "2023-01-19T13:51:08.537495Z",
     "iopub.status.idle": "2023-01-19T13:51:08.556605Z",
     "shell.execute_reply": "2023-01-19T13:51:08.555952Z",
     "shell.execute_reply.started": "2023-01-19T13:51:08.538003Z"
    }
   },
   "outputs": [
    {
     "data": {
      "text/plain": [
       "(3948, 13)"
      ]
     },
     "execution_count": 9,
     "metadata": {},
     "output_type": "execute_result"
    }
   ],
   "source": [
    "if relevance_label_field == 'mi_quality':\n",
    "    topic_mi_quality_gby = dataset.groupby(['topic', 'mi_quality']).count()\n",
    "    dataset = dataset[\n",
    "        dataset.topic.isin(list(filter(\n",
    "            lambda x: 'high' in topic_mi_quality_gby.loc[x].index and 'low' in topic_mi_quality_gby.loc[x].index,\n",
    "            dataset['topic'].unique()\n",
    "        )))\n",
    "    ].reset_index(drop=True)\n",
    "dataset.shape"
   ]
  },
  {
   "cell_type": "code",
   "execution_count": 10,
   "metadata": {
    "execution": {
     "iopub.execute_input": "2023-01-19T13:51:09.557561Z",
     "iopub.status.busy": "2023-01-19T13:51:09.557039Z",
     "iopub.status.idle": "2023-01-19T13:51:09.562436Z",
     "shell.execute_reply": "2023-01-19T13:51:09.561733Z",
     "shell.execute_reply.started": "2023-01-19T13:51:09.557537Z"
    }
   },
   "outputs": [],
   "source": [
    "dataset.mi_quality = dataset.mi_quality.map({'high': 1, 'low': 0})"
   ]
  },
  {
   "cell_type": "code",
   "execution_count": 11,
   "metadata": {
    "execution": {
     "iopub.execute_input": "2023-01-19T13:51:11.411039Z",
     "iopub.status.busy": "2023-01-19T13:51:11.410360Z",
     "iopub.status.idle": "2023-01-19T13:51:11.665406Z",
     "shell.execute_reply": "2023-01-19T13:51:11.664786Z",
     "shell.execute_reply.started": "2023-01-19T13:51:11.411012Z"
    }
   },
   "outputs": [
    {
     "name": "stderr",
     "output_type": "stream",
     "text": [
      "/tmp/ipykernel_598/3492405991.py:5: FutureWarning: In future versions `DataFrame.to_latex` is expected to utilise the base implementation of `Styler.to_latex` for formatting and rendering. The arguments signature may therefore change. It is recommended instead to use `DataFrame.style.to_latex` which also contains additional functionality.\n",
      "  count_topic_miq.pivot('Topic', 'MI Quality', '').to_latex(f'topic_distribution_over_topics.tex')\n"
     ]
    }
   ],
   "source": [
    "count_topic_miq = dataset.groupby(['topic', 'mi_quality']).count()[['token_len']]\n",
    "count_topic_miq = count_topic_miq / len(dataset) * 100\n",
    "count_topic_miq = count_topic_miq.applymap(lambda x: f'{x:.2f}%').reset_index()\n",
    "count_topic_miq.rename(columns={'token_len': '', 'topic': 'Topic', 'mi_quality': 'MI Quality'}, inplace=True)\n",
    "count_topic_miq.pivot('Topic', 'MI Quality', '').to_latex(f'topic_distribution_over_topics.tex')"
   ]
  },
  {
   "cell_type": "code",
   "execution_count": 12,
   "metadata": {
    "execution": {
     "iopub.execute_input": "2023-01-19T13:51:13.058994Z",
     "iopub.status.busy": "2023-01-19T13:51:13.058323Z",
     "iopub.status.idle": "2023-01-19T13:51:13.065843Z",
     "shell.execute_reply": "2023-01-19T13:51:13.065267Z",
     "shell.execute_reply.started": "2023-01-19T13:51:13.058969Z"
    },
    "id": "NMmsO7PfCcHg"
   },
   "outputs": [],
   "source": [
    "only_therapist_mask = dataset[client_col].isna()\n",
    "\n",
    "client_dataset = dataset[~only_therapist_mask]\n",
    "client_dataset = client_dataset.drop(therapist_col, axis=1)\n",
    "\n",
    "therapist_dataset = dataset[only_therapist_mask]\n",
    "therapist_dataset = therapist_dataset.drop(client_col, axis=1)"
   ]
  },
  {
   "cell_type": "markdown",
   "metadata": {},
   "source": [
    "Add ids to the query (topic) and document (utterance_text) fields"
   ]
  },
  {
   "cell_type": "code",
   "execution_count": 13,
   "metadata": {
    "execution": {
     "iopub.execute_input": "2023-01-19T13:51:14.354270Z",
     "iopub.status.busy": "2023-01-19T13:51:14.353984Z",
     "iopub.status.idle": "2023-01-19T13:51:14.693265Z",
     "shell.execute_reply": "2023-01-19T13:51:14.692459Z",
     "shell.execute_reply.started": "2023-01-19T13:51:14.354249Z"
    }
   },
   "outputs": [],
   "source": [
    "unique_topics = therapist_dataset.topic.unique()\n",
    "topics_map = dict(zip(unique_topics, range(1, len(unique_topics) + 1)))\n",
    "\n",
    "unique_documents = therapist_dataset.utterance_text.unique()\n",
    "documents_map = dict(zip(unique_documents, range(1, len(unique_documents) + 1)))\n",
    "\n",
    "therapist_dataset['topic_id'] = therapist_dataset.topic.map(topics_map)\n",
    "therapist_dataset['utterance_text_id'] = therapist_dataset.utterance_text.map(documents_map)\n",
    "\n",
    "with open('topics_map.json', 'w') as f:\n",
    "    json.dump(topics_map, f, indent=4)\n",
    "    \n",
    "with open('documents_map.json', 'w') as f:\n",
    "    json.dump(documents_map, f, indent=4)"
   ]
  },
  {
   "cell_type": "markdown",
   "metadata": {
    "id": "4d8HDs-vE63p"
   },
   "source": [
    "Split data in train and test, separately for client and therapist"
   ]
  },
  {
   "cell_type": "code",
   "execution_count": 14,
   "metadata": {
    "colab": {
     "base_uri": "https://localhost:8080/"
    },
    "execution": {
     "iopub.execute_input": "2023-01-19T13:51:15.843653Z",
     "iopub.status.busy": "2023-01-19T13:51:15.843362Z",
     "iopub.status.idle": "2023-01-19T13:51:15.866080Z",
     "shell.execute_reply": "2023-01-19T13:51:15.865457Z",
     "shell.execute_reply.started": "2023-01-19T13:51:15.843631Z"
    },
    "id": "hY25NvS_C_9B",
    "outputId": "d5b94af7-bcd1-4d11-92b9-325dca0d9950"
   },
   "outputs": [
    {
     "data": {
      "text/plain": [
       "array(['change', 'neutral', 'sustain'], dtype=object)"
      ]
     },
     "execution_count": 14,
     "metadata": {},
     "output_type": "execute_result"
    }
   ],
   "source": [
    "client_train, client_test, client_encoder = ami.train_test_split_target_topic_distributed(client_dataset, target_col=client_col, test_size=test_size, encode_target=True)\n",
    "client_encoder.classes_"
   ]
  },
  {
   "cell_type": "code",
   "execution_count": 15,
   "metadata": {
    "colab": {
     "base_uri": "https://localhost:8080/"
    },
    "execution": {
     "iopub.execute_input": "2023-01-19T13:51:16.628757Z",
     "iopub.status.busy": "2023-01-19T13:51:16.628075Z",
     "iopub.status.idle": "2023-01-19T13:51:16.653563Z",
     "shell.execute_reply": "2023-01-19T13:51:16.652908Z",
     "shell.execute_reply.started": "2023-01-19T13:51:16.628731Z"
    },
    "id": "pfX0GSG0E6gi",
    "outputId": "49335231-08ae-4f47-a922-6c9335c53b81"
   },
   "outputs": [
    {
     "data": {
      "text/plain": [
       "array(['other', 'question', 'reflection', 'therapist_input'], dtype=object)"
      ]
     },
     "execution_count": 15,
     "metadata": {},
     "output_type": "execute_result"
    }
   ],
   "source": [
    "therapist_train, therapist_test, therapist_encoder = ami.train_test_split_target_topic_distributed(therapist_dataset, target_col=therapist_col, test_size=test_size, encode_target=True)\n",
    "therapist_encoder.classes_"
   ]
  },
  {
   "cell_type": "markdown",
   "metadata": {
    "id": "teIOPl_BXaeq"
   },
   "source": [
    "Transform text data to TensorFlow ELWC format (Example with Context). It is done by creating a similar JSON stucture and using a script to convert from JSON to ELWC."
   ]
  },
  {
   "cell_type": "code",
   "execution_count": 16,
   "metadata": {
    "execution": {
     "iopub.execute_input": "2023-01-19T13:51:19.074255Z",
     "iopub.status.busy": "2023-01-19T13:51:19.073609Z",
     "iopub.status.idle": "2023-01-19T13:51:19.079075Z",
     "shell.execute_reply": "2023-01-19T13:51:19.078380Z",
     "shell.execute_reply.started": "2023-01-19T13:51:19.074228Z"
    },
    "id": "LLAqBeIyZsdo"
   },
   "outputs": [],
   "source": [
    "def df_to_json_dict(df,\n",
    "                    text_field='utterance_text',\n",
    "                    query_field='topic',\n",
    "                    relevance_field='mi_quality',\n",
    "                    query_id_field='topic_id',\n",
    "                    document_id_field='utterance_text_id'):\n",
    "    out = {'rankingProblems': []}\n",
    "    documents, queries = [], []\n",
    "    for query, query_df in df.groupby(query_field):\n",
    "        out['rankingProblems'].append(\n",
    "            {\n",
    "                'queryText': query,\n",
    "                'documents': []\n",
    "            }\n",
    "        )\n",
    "        \n",
    "        for _, row in query_df.iterrows():\n",
    "            document = row[text_field]\n",
    "            query_id = row[query_id_field]\n",
    "            document_id = row[document_id_field]\n",
    "            \n",
    "            out['rankingProblems'][-1]['documents'].append(\n",
    "                {\n",
    "                    'relevance': row[relevance_field],\n",
    "                    'docText': document,\n",
    "                    'query_id': query_id,\n",
    "                    'document_id': document_id\n",
    "                }\n",
    "            )\n",
    "    return out"
   ]
  },
  {
   "cell_type": "markdown",
   "metadata": {
    "id": "VUFmCdXTj6V0"
   },
   "source": [
    "Download BERT"
   ]
  },
  {
   "cell_type": "code",
   "execution_count": 17,
   "metadata": {
    "colab": {
     "base_uri": "https://localhost:8080/"
    },
    "execution": {
     "iopub.execute_input": "2023-01-19T13:51:22.398202Z",
     "iopub.status.busy": "2023-01-19T13:51:22.397484Z",
     "iopub.status.idle": "2023-01-19T13:51:31.170530Z",
     "shell.execute_reply": "2023-01-19T13:51:31.169855Z",
     "shell.execute_reply.started": "2023-01-19T13:51:22.398176Z"
    },
    "id": "tF7cYdRspZ_v",
    "outputId": "100a8812-71cd-432a-ffcd-3e3181b56803"
   },
   "outputs": [
    {
     "name": "stdout",
     "output_type": "stream",
     "text": [
      "--2023-01-19 13:51:23--  https://storage.googleapis.com/cloud-tpu-checkpoints/bert/v3/uncased_L-12_H-768_A-12.tar.gz\n",
      "Resolving storage.googleapis.com (storage.googleapis.com)... 172.253.62.128, 172.253.115.128, 172.253.63.128, ...\n",
      "Connecting to storage.googleapis.com (storage.googleapis.com)|172.253.62.128|:443... connected.\n",
      "HTTP request sent, awaiting response... 200 OK\n",
      "Length: 405351189 (387M) [application/octet-stream]\n",
      "Saving to: ‘/tmp/tfrbert/uncased_L-12_H-768_A-12.tar.gz.1’\n",
      "\n",
      "uncased_L-12_H-768_ 100%[===================>] 386.57M   141MB/s    in 2.7s    \n",
      "\n",
      "2023-01-19 13:51:26 (141 MB/s) - ‘/tmp/tfrbert/uncased_L-12_H-768_A-12.tar.gz.1’ saved [405351189/405351189]\n",
      "\n",
      "tmp/temp_dir/raw/vocab.txt\n",
      "tmp/temp_dir/raw/bert_model.ckpt.index\n",
      "tmp/temp_dir/raw/bert_model.ckpt.data-00000-of-00001\n",
      "tmp/temp_dir/raw/bert_config.json\n"
     ]
    }
   ],
   "source": [
    "!mkdir -p /tmp/tfrbert\n",
    "!wget \"https://storage.googleapis.com/cloud-tpu-checkpoints/bert/v3/uncased_L-12_H-768_A-12.tar.gz\" -P \"/tmp/tfrbert\"\n",
    "!mkdir -p /tmp/tfrbert/uncased_L-12_H-768_A-12\n",
    "!tar -xvf /tmp/tfrbert/uncased_L-12_H-768_A-12.tar.gz --strip-components 3 -C \"/tmp/tfrbert/uncased_L-12_H-768_A-12/\""
   ]
  },
  {
   "cell_type": "markdown",
   "metadata": {
    "id": "TvHcCGNdCWfL"
   },
   "source": [
    "TFRBert parameters"
   ]
  },
  {
   "cell_type": "code",
   "execution_count": 18,
   "metadata": {
    "execution": {
     "iopub.execute_input": "2023-01-19T13:51:31.172035Z",
     "iopub.status.busy": "2023-01-19T13:51:31.171806Z",
     "iopub.status.idle": "2023-01-19T13:51:31.176070Z",
     "shell.execute_reply": "2023-01-19T13:51:31.175575Z",
     "shell.execute_reply.started": "2023-01-19T13:51:31.172011Z"
    },
    "id": "4r_WNxjACYZZ"
   },
   "outputs": [],
   "source": [
    "BERT_DIR = \"/tmp/tfrbert/uncased_L-12_H-768_A-12\"\n",
    "sequence_length = 128\n",
    "vocab_file = '/tmp/tfrbert/uncased_L-12_H-768_A-12/vocab.txt'\n",
    "do_lower_case = True\n",
    "list_size=12\n",
    "\n",
    "train_steps = 100"
   ]
  },
  {
   "cell_type": "code",
   "execution_count": 21,
   "metadata": {
    "colab": {
     "base_uri": "https://localhost:8080/"
    },
    "execution": {
     "iopub.execute_input": "2023-01-19T13:10:25.719314Z",
     "iopub.status.busy": "2023-01-19T13:10:25.718826Z",
     "iopub.status.idle": "2023-01-19T13:11:28.395775Z",
     "shell.execute_reply": "2023-01-19T13:11:28.395077Z",
     "shell.execute_reply.started": "2023-01-19T13:10:25.719300Z"
    },
    "id": "n5ZyZHYjVOgq",
    "outputId": "a0b46f40-bfc1-4a86-a838-f74b5740f384"
   },
   "outputs": [
    {
     "name": "stdout",
     "output_type": "stream",
     "text": [
      "Collecting tensorflow_ranking\n",
      "  Downloading tensorflow_ranking-0.5.1-py2.py3-none-any.whl (149 kB)\n",
      "\u001b[2K     \u001b[90m━━━━━━━━━━━━━━━━━━━━━━━━━━━━━━━━━━━━━━\u001b[0m \u001b[32m149.6/149.6 kB\u001b[0m \u001b[31m21.5 MB/s\u001b[0m eta \u001b[36m0:00:00\u001b[0m\n",
      "\u001b[?25hRequirement already satisfied: six>=1.10.0 in /usr/lib/python3/dist-packages (from tensorflow_ranking) (1.14.0)\n",
      "Requirement already satisfied: absl-py>=0.1.6 in /usr/local/lib/python3.9/dist-packages (from tensorflow_ranking) (1.1.0)\n",
      "Collecting tensorflow-serving-api<3.0.0,>=2.0.0\n",
      "  Downloading tensorflow_serving_api-2.11.0-py2.py3-none-any.whl (37 kB)\n",
      "Requirement already satisfied: numpy>=1.13.3 in /usr/local/lib/python3.9/dist-packages (from tensorflow_ranking) (1.23.1)\n",
      "Collecting tensorflow<3,>=2.11.0\n",
      "  Downloading tensorflow-2.11.0-cp39-cp39-manylinux_2_17_x86_64.manylinux2014_x86_64.whl (588.3 MB)\n",
      "\u001b[2K     \u001b[90m━━━━━━━━━━━━━━━━━━━━━━━━━━━━━━━━━━━━━━━\u001b[0m \u001b[32m588.3/588.3 MB\u001b[0m \u001b[31m4.3 MB/s\u001b[0m eta \u001b[36m0:00:00\u001b[0m00:01\u001b[0m00:01\u001b[0m\n",
      "\u001b[?25hRequirement already satisfied: protobuf<3.20,>=3.9.2 in /usr/local/lib/python3.9/dist-packages (from tensorflow-serving-api<3.0.0,>=2.0.0->tensorflow_ranking) (3.19.4)\n",
      "Requirement already satisfied: grpcio<2.0,>=1.24.3 in /usr/local/lib/python3.9/dist-packages (from tensorflow-serving-api<3.0.0,>=2.0.0->tensorflow_ranking) (1.47.0)\n",
      "Requirement already satisfied: google-pasta>=0.1.1 in /usr/local/lib/python3.9/dist-packages (from tensorflow<3,>=2.11.0->tensorflow-serving-api<3.0.0,>=2.0.0->tensorflow_ranking) (0.2.0)\n",
      "Requirement already satisfied: astunparse>=1.6.0 in /usr/local/lib/python3.9/dist-packages (from tensorflow<3,>=2.11.0->tensorflow-serving-api<3.0.0,>=2.0.0->tensorflow_ranking) (1.6.3)\n",
      "Requirement already satisfied: typing-extensions>=3.6.6 in /usr/local/lib/python3.9/dist-packages (from tensorflow<3,>=2.11.0->tensorflow-serving-api<3.0.0,>=2.0.0->tensorflow_ranking) (4.3.0)\n",
      "Requirement already satisfied: termcolor>=1.1.0 in /usr/local/lib/python3.9/dist-packages (from tensorflow<3,>=2.11.0->tensorflow-serving-api<3.0.0,>=2.0.0->tensorflow_ranking) (1.1.0)\n",
      "Collecting keras<2.12,>=2.11.0\n",
      "  Downloading keras-2.11.0-py2.py3-none-any.whl (1.7 MB)\n",
      "\u001b[2K     \u001b[90m━━━━━━━━━━━━━━━━━━━━━━━━━━━━━━━━━━━━━━━━\u001b[0m \u001b[32m1.7/1.7 MB\u001b[0m \u001b[31m94.5 MB/s\u001b[0m eta \u001b[36m0:00:00\u001b[0m\n",
      "\u001b[?25hRequirement already satisfied: h5py>=2.9.0 in /usr/local/lib/python3.9/dist-packages (from tensorflow<3,>=2.11.0->tensorflow-serving-api<3.0.0,>=2.0.0->tensorflow_ranking) (3.7.0)\n",
      "Requirement already satisfied: tensorflow-io-gcs-filesystem>=0.23.1 in /usr/local/lib/python3.9/dist-packages (from tensorflow<3,>=2.11.0->tensorflow-serving-api<3.0.0,>=2.0.0->tensorflow_ranking) (0.26.0)\n",
      "Collecting tensorboard<2.12,>=2.11\n",
      "  Downloading tensorboard-2.11.2-py3-none-any.whl (6.0 MB)\n",
      "\u001b[2K     \u001b[90m━━━━━━━━━━━━━━━━━━━━━━━━━━━━━━━━━━━━━━━━\u001b[0m \u001b[32m6.0/6.0 MB\u001b[0m \u001b[31m98.5 MB/s\u001b[0m eta \u001b[36m0:00:00\u001b[0mta \u001b[36m0:00:01\u001b[0m\n",
      "\u001b[?25hRequirement already satisfied: gast<=0.4.0,>=0.2.1 in /usr/local/lib/python3.9/dist-packages (from tensorflow<3,>=2.11.0->tensorflow-serving-api<3.0.0,>=2.0.0->tensorflow_ranking) (0.4.0)\n",
      "Requirement already satisfied: opt-einsum>=2.3.2 in /usr/local/lib/python3.9/dist-packages (from tensorflow<3,>=2.11.0->tensorflow-serving-api<3.0.0,>=2.0.0->tensorflow_ranking) (3.3.0)\n",
      "Collecting tensorflow-estimator<2.12,>=2.11.0\n",
      "  Downloading tensorflow_estimator-2.11.0-py2.py3-none-any.whl (439 kB)\n",
      "\u001b[2K     \u001b[90m━━━━━━━━━━━━━━━━━━━━━━━━━━━━━━━━━━━━━━\u001b[0m \u001b[32m439.2/439.2 kB\u001b[0m \u001b[31m74.2 MB/s\u001b[0m eta \u001b[36m0:00:00\u001b[0m\n",
      "\u001b[?25hRequirement already satisfied: setuptools in /usr/local/lib/python3.9/dist-packages (from tensorflow<3,>=2.11.0->tensorflow-serving-api<3.0.0,>=2.0.0->tensorflow_ranking) (63.1.0)\n",
      "Collecting flatbuffers>=2.0\n",
      "  Downloading flatbuffers-23.1.4-py2.py3-none-any.whl (26 kB)\n",
      "Requirement already satisfied: packaging in /usr/local/lib/python3.9/dist-packages (from tensorflow<3,>=2.11.0->tensorflow-serving-api<3.0.0,>=2.0.0->tensorflow_ranking) (21.3)\n",
      "Requirement already satisfied: libclang>=13.0.0 in /usr/local/lib/python3.9/dist-packages (from tensorflow<3,>=2.11.0->tensorflow-serving-api<3.0.0,>=2.0.0->tensorflow_ranking) (14.0.1)\n",
      "Requirement already satisfied: wrapt>=1.11.0 in /usr/local/lib/python3.9/dist-packages (from tensorflow<3,>=2.11.0->tensorflow-serving-api<3.0.0,>=2.0.0->tensorflow_ranking) (1.14.1)\n",
      "Requirement already satisfied: wheel<1.0,>=0.23.0 in /usr/local/lib/python3.9/dist-packages (from astunparse>=1.6.0->tensorflow<3,>=2.11.0->tensorflow-serving-api<3.0.0,>=2.0.0->tensorflow_ranking) (0.35.1)\n",
      "Requirement already satisfied: google-auth<3,>=1.6.3 in /usr/local/lib/python3.9/dist-packages (from tensorboard<2.12,>=2.11->tensorflow<3,>=2.11.0->tensorflow-serving-api<3.0.0,>=2.0.0->tensorflow_ranking) (2.9.0)\n",
      "Requirement already satisfied: werkzeug>=1.0.1 in /usr/local/lib/python3.9/dist-packages (from tensorboard<2.12,>=2.11->tensorflow<3,>=2.11.0->tensorflow-serving-api<3.0.0,>=2.0.0->tensorflow_ranking) (2.1.2)\n",
      "Requirement already satisfied: tensorboard-data-server<0.7.0,>=0.6.0 in /usr/local/lib/python3.9/dist-packages (from tensorboard<2.12,>=2.11->tensorflow<3,>=2.11.0->tensorflow-serving-api<3.0.0,>=2.0.0->tensorflow_ranking) (0.6.1)\n",
      "Requirement already satisfied: google-auth-oauthlib<0.5,>=0.4.1 in /usr/local/lib/python3.9/dist-packages (from tensorboard<2.12,>=2.11->tensorflow<3,>=2.11.0->tensorflow-serving-api<3.0.0,>=2.0.0->tensorflow_ranking) (0.4.6)\n",
      "Requirement already satisfied: requests<3,>=2.21.0 in /usr/local/lib/python3.9/dist-packages (from tensorboard<2.12,>=2.11->tensorflow<3,>=2.11.0->tensorflow-serving-api<3.0.0,>=2.0.0->tensorflow_ranking) (2.28.1)\n",
      "Requirement already satisfied: markdown>=2.6.8 in /usr/local/lib/python3.9/dist-packages (from tensorboard<2.12,>=2.11->tensorflow<3,>=2.11.0->tensorflow-serving-api<3.0.0,>=2.0.0->tensorflow_ranking) (3.3.7)\n",
      "Requirement already satisfied: tensorboard-plugin-wit>=1.6.0 in /usr/local/lib/python3.9/dist-packages (from tensorboard<2.12,>=2.11->tensorflow<3,>=2.11.0->tensorflow-serving-api<3.0.0,>=2.0.0->tensorflow_ranking) (1.8.1)\n",
      "Requirement already satisfied: pyparsing!=3.0.5,>=2.0.2 in /usr/local/lib/python3.9/dist-packages (from packaging->tensorflow<3,>=2.11.0->tensorflow-serving-api<3.0.0,>=2.0.0->tensorflow_ranking) (3.0.9)\n",
      "Requirement already satisfied: pyasn1-modules>=0.2.1 in /usr/local/lib/python3.9/dist-packages (from google-auth<3,>=1.6.3->tensorboard<2.12,>=2.11->tensorflow<3,>=2.11.0->tensorflow-serving-api<3.0.0,>=2.0.0->tensorflow_ranking) (0.2.8)\n",
      "Requirement already satisfied: rsa<5,>=3.1.4 in /usr/lib/python3/dist-packages (from google-auth<3,>=1.6.3->tensorboard<2.12,>=2.11->tensorflow<3,>=2.11.0->tensorflow-serving-api<3.0.0,>=2.0.0->tensorflow_ranking) (4.0)\n",
      "Requirement already satisfied: cachetools<6.0,>=2.0.0 in /usr/local/lib/python3.9/dist-packages (from google-auth<3,>=1.6.3->tensorboard<2.12,>=2.11->tensorflow<3,>=2.11.0->tensorflow-serving-api<3.0.0,>=2.0.0->tensorflow_ranking) (5.2.0)\n",
      "Requirement already satisfied: requests-oauthlib>=0.7.0 in /usr/local/lib/python3.9/dist-packages (from google-auth-oauthlib<0.5,>=0.4.1->tensorboard<2.12,>=2.11->tensorflow<3,>=2.11.0->tensorflow-serving-api<3.0.0,>=2.0.0->tensorflow_ranking) (1.3.1)\n",
      "Requirement already satisfied: importlib-metadata>=4.4 in /usr/local/lib/python3.9/dist-packages (from markdown>=2.6.8->tensorboard<2.12,>=2.11->tensorflow<3,>=2.11.0->tensorflow-serving-api<3.0.0,>=2.0.0->tensorflow_ranking) (4.12.0)\n",
      "Requirement already satisfied: certifi>=2017.4.17 in /usr/lib/python3/dist-packages (from requests<3,>=2.21.0->tensorboard<2.12,>=2.11->tensorflow<3,>=2.11.0->tensorflow-serving-api<3.0.0,>=2.0.0->tensorflow_ranking) (2019.11.28)\n",
      "Requirement already satisfied: urllib3<1.27,>=1.21.1 in /usr/local/lib/python3.9/dist-packages (from requests<3,>=2.21.0->tensorboard<2.12,>=2.11->tensorflow<3,>=2.11.0->tensorflow-serving-api<3.0.0,>=2.0.0->tensorflow_ranking) (1.26.10)\n",
      "Requirement already satisfied: charset-normalizer<3,>=2 in /usr/local/lib/python3.9/dist-packages (from requests<3,>=2.21.0->tensorboard<2.12,>=2.11->tensorflow<3,>=2.11.0->tensorflow-serving-api<3.0.0,>=2.0.0->tensorflow_ranking) (2.1.0)\n",
      "Requirement already satisfied: idna<4,>=2.5 in /usr/lib/python3/dist-packages (from requests<3,>=2.21.0->tensorboard<2.12,>=2.11->tensorflow<3,>=2.11.0->tensorflow-serving-api<3.0.0,>=2.0.0->tensorflow_ranking) (2.8)\n",
      "Requirement already satisfied: zipp>=0.5 in /usr/local/lib/python3.9/dist-packages (from importlib-metadata>=4.4->markdown>=2.6.8->tensorboard<2.12,>=2.11->tensorflow<3,>=2.11.0->tensorflow-serving-api<3.0.0,>=2.0.0->tensorflow_ranking) (3.8.1)\n",
      "Requirement already satisfied: pyasn1<0.5.0,>=0.4.6 in /usr/local/lib/python3.9/dist-packages (from pyasn1-modules>=0.2.1->google-auth<3,>=1.6.3->tensorboard<2.12,>=2.11->tensorflow<3,>=2.11.0->tensorflow-serving-api<3.0.0,>=2.0.0->tensorflow_ranking) (0.4.8)\n",
      "Requirement already satisfied: oauthlib>=3.0.0 in /usr/local/lib/python3.9/dist-packages (from requests-oauthlib>=0.7.0->google-auth-oauthlib<0.5,>=0.4.1->tensorboard<2.12,>=2.11->tensorflow<3,>=2.11.0->tensorflow-serving-api<3.0.0,>=2.0.0->tensorflow_ranking) (3.2.0)\n",
      "Installing collected packages: flatbuffers, tensorflow-estimator, keras, tensorboard, tensorflow, tensorflow-serving-api, tensorflow_ranking\n",
      "  Attempting uninstall: flatbuffers\n",
      "    Found existing installation: flatbuffers 1.12\n",
      "    Uninstalling flatbuffers-1.12:\n",
      "      Successfully uninstalled flatbuffers-1.12\n",
      "  Attempting uninstall: tensorflow-estimator\n",
      "    Found existing installation: tensorflow-estimator 2.9.0\n",
      "    Uninstalling tensorflow-estimator-2.9.0:\n",
      "      Successfully uninstalled tensorflow-estimator-2.9.0\n",
      "  Attempting uninstall: keras\n",
      "    Found existing installation: keras 2.9.0\n",
      "    Uninstalling keras-2.9.0:\n",
      "      Successfully uninstalled keras-2.9.0\n",
      "  Attempting uninstall: tensorboard\n",
      "    Found existing installation: tensorboard 2.9.1\n",
      "    Uninstalling tensorboard-2.9.1:\n",
      "      Successfully uninstalled tensorboard-2.9.1\n",
      "  Attempting uninstall: tensorflow\n",
      "    Found existing installation: tensorflow 2.9.1\n",
      "    Uninstalling tensorflow-2.9.1:\n",
      "      Successfully uninstalled tensorflow-2.9.1\n",
      "\u001b[31mERROR: pip's dependency resolver does not currently take into account all the packages that are installed. This behaviour is the source of the following dependency conflicts.\n",
      "jaxlib 0.3.8+cuda11.cudnn82 requires flatbuffers<3.0,>=1.12, but you have flatbuffers 23.1.4 which is incompatible.\u001b[0m\u001b[31m\n",
      "\u001b[0mSuccessfully installed flatbuffers-23.1.4 keras-2.11.0 tensorboard-2.11.2 tensorflow-2.11.0 tensorflow-estimator-2.11.0 tensorflow-serving-api-2.11.0 tensorflow_ranking-0.5.1\n",
      "\u001b[33mWARNING: Running pip as the 'root' user can result in broken permissions and conflicting behaviour with the system package manager. It is recommended to use a virtual environment instead: https://pip.pypa.io/warnings/venv\u001b[0m\u001b[33m\n",
      "\u001b[0mCollecting tf-models-official\n",
      "  Downloading tf_models_official-2.11.3-py2.py3-none-any.whl (2.3 MB)\n",
      "\u001b[2K     \u001b[90m━━━━━━━━━━━━━━━━━━━━━━━━━━━━━━━━━━━━━━━━\u001b[0m \u001b[32m2.3/2.3 MB\u001b[0m \u001b[31m77.0 MB/s\u001b[0m eta \u001b[36m0:00:00\u001b[0m\n",
      "\u001b[?25hCollecting tensorflow-hub>=0.6.0\n",
      "  Downloading tensorflow_hub-0.12.0-py2.py3-none-any.whl (108 kB)\n",
      "\u001b[2K     \u001b[90m━━━━━━━━━━━━━━━━━━━━━━━━━━━━━━━━━━━━━━\u001b[0m \u001b[32m108.8/108.8 kB\u001b[0m \u001b[31m39.3 MB/s\u001b[0m eta \u001b[36m0:00:00\u001b[0m\n",
      "\u001b[?25hRequirement already satisfied: numpy>=1.20 in /usr/local/lib/python3.9/dist-packages (from tf-models-official) (1.23.1)\n",
      "Requirement already satisfied: sentencepiece in /usr/local/lib/python3.9/dist-packages (from tf-models-official) (0.1.96)\n",
      "Collecting py-cpuinfo>=3.3.0\n",
      "  Downloading py_cpuinfo-9.0.0-py3-none-any.whl (22 kB)\n",
      "Collecting tf-slim>=1.1.0\n",
      "  Downloading tf_slim-1.1.0-py2.py3-none-any.whl (352 kB)\n",
      "\u001b[2K     \u001b[90m━━━━━━━━━━━━━━━━━━━━━━━━━━━━━━━━━━━━━━\u001b[0m \u001b[32m352.1/352.1 kB\u001b[0m \u001b[31m75.9 MB/s\u001b[0m eta \u001b[36m0:00:00\u001b[0m\n",
      "\u001b[?25hRequirement already satisfied: matplotlib in /usr/local/lib/python3.9/dist-packages (from tf-models-official) (3.5.2)\n",
      "Requirement already satisfied: tensorflow~=2.11.0 in /usr/local/lib/python3.9/dist-packages (from tf-models-official) (2.11.0)\n",
      "Requirement already satisfied: pyyaml<6.0,>=5.1 in /usr/local/lib/python3.9/dist-packages (from tf-models-official) (5.4.1)\n",
      "Collecting gin-config\n",
      "  Downloading gin_config-0.5.0-py3-none-any.whl (61 kB)\n",
      "\u001b[2K     \u001b[90m━━━━━━━━━━━━━━━━━━━━━━━━━━━━━━━━━━━━━━━━\u001b[0m \u001b[32m61.3/61.3 kB\u001b[0m \u001b[31m26.8 MB/s\u001b[0m eta \u001b[36m0:00:00\u001b[0m\n",
      "\u001b[?25hCollecting google-api-python-client>=1.6.7\n",
      "  Downloading google_api_python_client-2.73.0-py2.py3-none-any.whl (10.9 MB)\n",
      "\u001b[2K     \u001b[90m━━━━━━━━━━━━━━━━━━━━━━━━━━━━━━━━━━━━━━━━\u001b[0m \u001b[32m10.9/10.9 MB\u001b[0m \u001b[31m88.4 MB/s\u001b[0m eta \u001b[36m0:00:00\u001b[0m00:01\u001b[0m00:01\u001b[0m\n",
      "\u001b[?25hRequirement already satisfied: Cython in /usr/local/lib/python3.9/dist-packages (from tf-models-official) (0.29.30)\n",
      "Collecting seqeval\n",
      "  Downloading seqeval-1.2.2.tar.gz (43 kB)\n",
      "\u001b[2K     \u001b[90m━━━━━━━━━━━━━━━━━━━━━━━━━━━━━━━━━━━━━━━━\u001b[0m \u001b[32m43.6/43.6 kB\u001b[0m \u001b[31m17.0 MB/s\u001b[0m eta \u001b[36m0:00:00\u001b[0m\n",
      "\u001b[?25h  Preparing metadata (setup.py) ... \u001b[?25ldone\n",
      "\u001b[?25hCollecting immutabledict\n",
      "  Downloading immutabledict-2.2.3-py3-none-any.whl (4.0 kB)\n",
      "Requirement already satisfied: pandas>=0.22.0 in /usr/local/lib/python3.9/dist-packages (from tf-models-official) (1.4.3)\n",
      "Collecting tensorflow-text~=2.11.0\n",
      "  Downloading tensorflow_text-2.11.0-cp39-cp39-manylinux_2_17_x86_64.manylinux2014_x86_64.whl (5.8 MB)\n",
      "\u001b[2K     \u001b[90m━━━━━━━━━━━━━━━━━━━━━━━━━━━━━━━━━━━━━━━━\u001b[0m \u001b[32m5.8/5.8 MB\u001b[0m \u001b[31m79.7 MB/s\u001b[0m eta \u001b[36m0:00:00\u001b[0m:00:01\u001b[0m00:01\u001b[0m\n",
      "\u001b[?25hCollecting opencv-python-headless\n",
      "  Downloading opencv_python_headless-4.7.0.68-cp37-abi3-manylinux_2_17_x86_64.manylinux2014_x86_64.whl (49.2 MB)\n",
      "\u001b[2K     \u001b[90m━━━━━━━━━━━━━━━━━━━━━━━━━━━━━━━━━━━━━━━━\u001b[0m \u001b[32m49.2/49.2 MB\u001b[0m \u001b[31m40.7 MB/s\u001b[0m eta \u001b[36m0:00:00\u001b[0m00:01\u001b[0m00:01\u001b[0m\n",
      "\u001b[?25hRequirement already satisfied: scipy>=0.19.1 in /usr/local/lib/python3.9/dist-packages (from tf-models-official) (1.8.1)\n",
      "Collecting tensorflow-addons\n",
      "  Downloading tensorflow_addons-0.19.0-cp39-cp39-manylinux_2_17_x86_64.manylinux2014_x86_64.whl (1.1 MB)\n",
      "\u001b[2K     \u001b[90m━━━━━━━━━━━━━━━━━━━━━━━━━━━━━━━━━━━━━━━━\u001b[0m \u001b[32m1.1/1.1 MB\u001b[0m \u001b[31m103.2 MB/s\u001b[0m eta \u001b[36m0:00:00\u001b[0m\n",
      "\u001b[?25hRequirement already satisfied: Pillow in /usr/local/lib/python3.9/dist-packages (from tf-models-official) (9.2.0)\n",
      "Collecting kaggle>=1.3.9\n",
      "  Downloading kaggle-1.5.12.tar.gz (58 kB)\n",
      "\u001b[2K     \u001b[90m━━━━━━━━━━━━━━━━━━━━━━━━━━━━━━━━━━━━━━━━\u001b[0m \u001b[32m59.0/59.0 kB\u001b[0m \u001b[31m23.5 MB/s\u001b[0m eta \u001b[36m0:00:00\u001b[0m\n",
      "\u001b[?25h  Preparing metadata (setup.py) ... \u001b[?25ldone\n",
      "\u001b[?25hCollecting tensorflow-datasets\n",
      "  Downloading tensorflow_datasets-4.8.2-py3-none-any.whl (5.3 MB)\n",
      "\u001b[2K     \u001b[90m━━━━━━━━━━━━━━━━━━━━━━━━━━━━━━━━━━━━━━━━\u001b[0m \u001b[32m5.3/5.3 MB\u001b[0m \u001b[31m112.4 MB/s\u001b[0m eta \u001b[36m0:00:00\u001b[0m00:01\u001b[0m\n",
      "\u001b[?25hRequirement already satisfied: psutil>=5.4.3 in /usr/local/lib/python3.9/dist-packages (from tf-models-official) (5.9.1)\n",
      "Collecting pycocotools\n",
      "  Downloading pycocotools-2.0.6.tar.gz (24 kB)\n",
      "  Installing build dependencies ... \u001b[?25ldone\n",
      "\u001b[?25h  Getting requirements to build wheel ... \u001b[?25ldone\n",
      "\u001b[?25h  Preparing metadata (pyproject.toml) ... \u001b[?25ldone\n",
      "\u001b[?25hCollecting sacrebleu\n",
      "  Downloading sacrebleu-2.3.1-py3-none-any.whl (118 kB)\n",
      "\u001b[2K     \u001b[90m━━━━━━━━━━━━━━━━━━━━━━━━━━━━━━━━━━━━━━\u001b[0m \u001b[32m118.9/118.9 kB\u001b[0m \u001b[31m38.6 MB/s\u001b[0m eta \u001b[36m0:00:00\u001b[0m\n",
      "\u001b[?25hRequirement already satisfied: six in /usr/lib/python3/dist-packages (from tf-models-official) (1.14.0)\n",
      "Collecting tensorflow-model-optimization>=0.4.1\n",
      "  Downloading tensorflow_model_optimization-0.7.3-py2.py3-none-any.whl (238 kB)\n",
      "\u001b[2K     \u001b[90m━━━━━━━━━━━━━━━━━━━━━━━━━━━━━━━━━━━━━━\u001b[0m \u001b[32m238.9/238.9 kB\u001b[0m \u001b[31m59.5 MB/s\u001b[0m eta \u001b[36m0:00:00\u001b[0m\n",
      "\u001b[?25hCollecting oauth2client\n",
      "  Downloading oauth2client-4.1.3-py2.py3-none-any.whl (98 kB)\n",
      "\u001b[2K     \u001b[90m━━━━━━━━━━━━━━━━━━━━━━━━━━━━━━━━━━━━━━━━\u001b[0m \u001b[32m98.2/98.2 kB\u001b[0m \u001b[31m34.6 MB/s\u001b[0m eta \u001b[36m0:00:00\u001b[0m\n",
      "\u001b[?25hCollecting google-auth-httplib2>=0.1.0\n",
      "  Downloading google_auth_httplib2-0.1.0-py2.py3-none-any.whl (9.3 kB)\n",
      "Collecting httplib2<1dev,>=0.15.0\n",
      "  Downloading httplib2-0.21.0-py3-none-any.whl (96 kB)\n",
      "\u001b[2K     \u001b[90m━━━━━━━━━━━━━━━━━━━━━━━━━━━━━━━━━━━━━━━━\u001b[0m \u001b[32m96.8/96.8 kB\u001b[0m \u001b[31m36.7 MB/s\u001b[0m eta \u001b[36m0:00:00\u001b[0m\n",
      "\u001b[?25hCollecting google-api-core!=2.0.*,!=2.1.*,!=2.2.*,!=2.3.0,<3.0.0dev,>=1.31.5\n",
      "  Downloading google_api_core-2.11.0-py3-none-any.whl (120 kB)\n",
      "\u001b[2K     \u001b[90m━━━━━━━━━━━━━━━━━━━━━━━━━━━━━━━━━━━━━━\u001b[0m \u001b[32m120.3/120.3 kB\u001b[0m \u001b[31m40.8 MB/s\u001b[0m eta \u001b[36m0:00:00\u001b[0m\n",
      "\u001b[?25hRequirement already satisfied: google-auth<3.0.0dev,>=1.19.0 in /usr/local/lib/python3.9/dist-packages (from google-api-python-client>=1.6.7->tf-models-official) (2.9.0)\n",
      "Collecting uritemplate<5,>=3.0.1\n",
      "  Downloading uritemplate-4.1.1-py2.py3-none-any.whl (10 kB)\n",
      "Requirement already satisfied: certifi in /usr/lib/python3/dist-packages (from kaggle>=1.3.9->tf-models-official) (2019.11.28)\n",
      "Requirement already satisfied: python-dateutil in /usr/local/lib/python3.9/dist-packages (from kaggle>=1.3.9->tf-models-official) (2.8.2)\n",
      "Requirement already satisfied: requests in /usr/local/lib/python3.9/dist-packages (from kaggle>=1.3.9->tf-models-official) (2.28.1)\n",
      "Requirement already satisfied: tqdm in /usr/local/lib/python3.9/dist-packages (from kaggle>=1.3.9->tf-models-official) (4.64.0)\n",
      "Requirement already satisfied: python-slugify in /usr/lib/python3/dist-packages (from kaggle>=1.3.9->tf-models-official) (4.0.0)\n",
      "Requirement already satisfied: urllib3 in /usr/local/lib/python3.9/dist-packages (from kaggle>=1.3.9->tf-models-official) (1.26.10)\n",
      "Requirement already satisfied: pytz>=2020.1 in /usr/local/lib/python3.9/dist-packages (from pandas>=0.22.0->tf-models-official) (2022.1)\n",
      "Requirement already satisfied: libclang>=13.0.0 in /usr/local/lib/python3.9/dist-packages (from tensorflow~=2.11.0->tf-models-official) (14.0.1)\n",
      "Requirement already satisfied: absl-py>=1.0.0 in /usr/local/lib/python3.9/dist-packages (from tensorflow~=2.11.0->tf-models-official) (1.1.0)\n",
      "Requirement already satisfied: setuptools in /usr/local/lib/python3.9/dist-packages (from tensorflow~=2.11.0->tf-models-official) (63.1.0)\n",
      "Requirement already satisfied: tensorboard<2.12,>=2.11 in /usr/local/lib/python3.9/dist-packages (from tensorflow~=2.11.0->tf-models-official) (2.11.2)\n",
      "Requirement already satisfied: typing-extensions>=3.6.6 in /usr/local/lib/python3.9/dist-packages (from tensorflow~=2.11.0->tf-models-official) (4.3.0)\n",
      "Requirement already satisfied: flatbuffers>=2.0 in /usr/local/lib/python3.9/dist-packages (from tensorflow~=2.11.0->tf-models-official) (23.1.4)\n",
      "Requirement already satisfied: tensorflow-estimator<2.12,>=2.11.0 in /usr/local/lib/python3.9/dist-packages (from tensorflow~=2.11.0->tf-models-official) (2.11.0)\n",
      "Requirement already satisfied: wrapt>=1.11.0 in /usr/local/lib/python3.9/dist-packages (from tensorflow~=2.11.0->tf-models-official) (1.14.1)\n",
      "Requirement already satisfied: astunparse>=1.6.0 in /usr/local/lib/python3.9/dist-packages (from tensorflow~=2.11.0->tf-models-official) (1.6.3)\n",
      "Requirement already satisfied: protobuf<3.20,>=3.9.2 in /usr/local/lib/python3.9/dist-packages (from tensorflow~=2.11.0->tf-models-official) (3.19.4)\n",
      "Requirement already satisfied: termcolor>=1.1.0 in /usr/local/lib/python3.9/dist-packages (from tensorflow~=2.11.0->tf-models-official) (1.1.0)\n",
      "Requirement already satisfied: grpcio<2.0,>=1.24.3 in /usr/local/lib/python3.9/dist-packages (from tensorflow~=2.11.0->tf-models-official) (1.47.0)\n",
      "Requirement already satisfied: opt-einsum>=2.3.2 in /usr/local/lib/python3.9/dist-packages (from tensorflow~=2.11.0->tf-models-official) (3.3.0)\n",
      "Requirement already satisfied: gast<=0.4.0,>=0.2.1 in /usr/local/lib/python3.9/dist-packages (from tensorflow~=2.11.0->tf-models-official) (0.4.0)\n",
      "Requirement already satisfied: keras<2.12,>=2.11.0 in /usr/local/lib/python3.9/dist-packages (from tensorflow~=2.11.0->tf-models-official) (2.11.0)\n",
      "Requirement already satisfied: google-pasta>=0.1.1 in /usr/local/lib/python3.9/dist-packages (from tensorflow~=2.11.0->tf-models-official) (0.2.0)\n",
      "Requirement already satisfied: h5py>=2.9.0 in /usr/local/lib/python3.9/dist-packages (from tensorflow~=2.11.0->tf-models-official) (3.7.0)\n",
      "Requirement already satisfied: tensorflow-io-gcs-filesystem>=0.23.1 in /usr/local/lib/python3.9/dist-packages (from tensorflow~=2.11.0->tf-models-official) (0.26.0)\n",
      "Requirement already satisfied: packaging in /usr/local/lib/python3.9/dist-packages (from tensorflow~=2.11.0->tf-models-official) (21.3)\n",
      "Collecting dm-tree~=0.1.1\n",
      "  Downloading dm_tree-0.1.8-cp39-cp39-manylinux_2_17_x86_64.manylinux2014_x86_64.whl (153 kB)\n",
      "\u001b[2K     \u001b[90m━━━━━━━━━━━━━━━━━━━━━━━━━━━━━━━━━━━━━━\u001b[0m \u001b[32m153.0/153.0 kB\u001b[0m \u001b[31m48.5 MB/s\u001b[0m eta \u001b[36m0:00:00\u001b[0m\n",
      "\u001b[?25hRequirement already satisfied: fonttools>=4.22.0 in /usr/local/lib/python3.9/dist-packages (from matplotlib->tf-models-official) (4.34.4)\n",
      "Requirement already satisfied: pyparsing>=2.2.1 in /usr/local/lib/python3.9/dist-packages (from matplotlib->tf-models-official) (3.0.9)\n",
      "Requirement already satisfied: kiwisolver>=1.0.1 in /usr/local/lib/python3.9/dist-packages (from matplotlib->tf-models-official) (1.4.3)\n",
      "Requirement already satisfied: cycler>=0.10 in /usr/local/lib/python3.9/dist-packages (from matplotlib->tf-models-official) (0.11.0)\n",
      "Requirement already satisfied: pyasn1>=0.1.7 in /usr/local/lib/python3.9/dist-packages (from oauth2client->tf-models-official) (0.4.8)\n",
      "Requirement already satisfied: pyasn1-modules>=0.0.5 in /usr/local/lib/python3.9/dist-packages (from oauth2client->tf-models-official) (0.2.8)\n",
      "Requirement already satisfied: rsa>=3.1.4 in /usr/lib/python3/dist-packages (from oauth2client->tf-models-official) (4.0)\n",
      "Collecting portalocker\n",
      "  Downloading portalocker-2.7.0-py2.py3-none-any.whl (15 kB)\n",
      "Requirement already satisfied: regex in /usr/local/lib/python3.9/dist-packages (from sacrebleu->tf-models-official) (2022.7.9)\n",
      "Requirement already satisfied: colorama in /usr/lib/python3/dist-packages (from sacrebleu->tf-models-official) (0.4.3)\n",
      "Collecting tabulate>=0.8.9\n",
      "  Downloading tabulate-0.9.0-py3-none-any.whl (35 kB)\n",
      "Requirement already satisfied: lxml in /usr/lib/python3/dist-packages (from sacrebleu->tf-models-official) (4.5.0)\n",
      "Requirement already satisfied: scikit-learn>=0.21.3 in /usr/local/lib/python3.9/dist-packages (from seqeval->tf-models-official) (1.1.1)\n",
      "Collecting typeguard>=2.7\n",
      "  Downloading typeguard-2.13.3-py3-none-any.whl (17 kB)\n",
      "Collecting etils[enp,epath]>=0.9.0\n",
      "  Downloading etils-1.0.0-py3-none-any.whl (146 kB)\n",
      "\u001b[2K     \u001b[90m━━━━━━━━━━━━━━━━━━━━━━━━━━━━━━━━━━━━━━\u001b[0m \u001b[32m146.5/146.5 kB\u001b[0m \u001b[31m49.5 MB/s\u001b[0m eta \u001b[36m0:00:00\u001b[0m\n",
      "\u001b[?25hRequirement already satisfied: click in /usr/local/lib/python3.9/dist-packages (from tensorflow-datasets->tf-models-official) (8.1.3)\n",
      "Requirement already satisfied: dill in /usr/local/lib/python3.9/dist-packages (from tensorflow-datasets->tf-models-official) (0.3.5.1)\n",
      "Collecting promise\n",
      "  Downloading promise-2.3.tar.gz (19 kB)\n",
      "  Preparing metadata (setup.py) ... \u001b[?25ldone\n",
      "\u001b[?25hCollecting tensorflow-metadata\n",
      "  Downloading tensorflow_metadata-1.12.0-py3-none-any.whl (52 kB)\n",
      "\u001b[2K     \u001b[90m━━━━━━━━━━━━━━━━━━━━━━━━━━━━━━━━━━━━━━━━\u001b[0m \u001b[32m52.3/52.3 kB\u001b[0m \u001b[31m18.6 MB/s\u001b[0m eta \u001b[36m0:00:00\u001b[0m\n",
      "\u001b[?25hCollecting toml\n",
      "  Downloading toml-0.10.2-py2.py3-none-any.whl (16 kB)\n",
      "Requirement already satisfied: wheel<1.0,>=0.23.0 in /usr/local/lib/python3.9/dist-packages (from astunparse>=1.6.0->tensorflow~=2.11.0->tf-models-official) (0.35.1)\n",
      "Requirement already satisfied: zipp in /usr/local/lib/python3.9/dist-packages (from etils[enp,epath]>=0.9.0->tensorflow-datasets->tf-models-official) (3.8.1)\n",
      "Requirement already satisfied: importlib_resources in /usr/local/lib/python3.9/dist-packages (from etils[enp,epath]>=0.9.0->tensorflow-datasets->tf-models-official) (5.8.0)\n",
      "Collecting protobuf<3.20,>=3.9.2\n",
      "  Downloading protobuf-3.19.6-cp39-cp39-manylinux_2_17_x86_64.manylinux2014_x86_64.whl (1.1 MB)\n",
      "\u001b[2K     \u001b[90m━━━━━━━━━━━━━━━━━━━━━━━━━━━━━━━━━━━━━━━━\u001b[0m \u001b[32m1.1/1.1 MB\u001b[0m \u001b[31m98.6 MB/s\u001b[0m eta \u001b[36m0:00:00\u001b[0m\n",
      "\u001b[?25hCollecting google-auth<3.0.0dev,>=1.19.0\n",
      "  Downloading google_auth-2.16.0-py2.py3-none-any.whl (177 kB)\n",
      "\u001b[2K     \u001b[90m━━━━━━━━━━━━━━━━━━━━━━━━━━━━━━━━━━━━━━\u001b[0m \u001b[32m177.8/177.8 kB\u001b[0m \u001b[31m54.2 MB/s\u001b[0m eta \u001b[36m0:00:00\u001b[0m\n",
      "\u001b[?25hCollecting googleapis-common-protos<2.0dev,>=1.56.2\n",
      "  Downloading googleapis_common_protos-1.58.0-py2.py3-none-any.whl (223 kB)\n",
      "\u001b[2K     \u001b[90m━━━━━━━━━━━━━━━━━━━━━━━━━━━━━━━━━━━━━━\u001b[0m \u001b[32m223.0/223.0 kB\u001b[0m \u001b[31m58.8 MB/s\u001b[0m eta \u001b[36m0:00:00\u001b[0m\n",
      "\u001b[?25hRequirement already satisfied: cachetools<6.0,>=2.0.0 in /usr/local/lib/python3.9/dist-packages (from google-auth<3.0.0dev,>=1.19.0->google-api-python-client>=1.6.7->tf-models-official) (5.2.0)\n",
      "Requirement already satisfied: idna<4,>=2.5 in /usr/lib/python3/dist-packages (from requests->kaggle>=1.3.9->tf-models-official) (2.8)\n",
      "Requirement already satisfied: charset-normalizer<3,>=2 in /usr/local/lib/python3.9/dist-packages (from requests->kaggle>=1.3.9->tf-models-official) (2.1.0)\n",
      "Requirement already satisfied: joblib>=1.0.0 in /usr/local/lib/python3.9/dist-packages (from scikit-learn>=0.21.3->seqeval->tf-models-official) (1.1.0)\n",
      "Requirement already satisfied: threadpoolctl>=2.0.0 in /usr/local/lib/python3.9/dist-packages (from scikit-learn>=0.21.3->seqeval->tf-models-official) (3.1.0)\n",
      "Requirement already satisfied: tensorboard-plugin-wit>=1.6.0 in /usr/local/lib/python3.9/dist-packages (from tensorboard<2.12,>=2.11->tensorflow~=2.11.0->tf-models-official) (1.8.1)\n",
      "Requirement already satisfied: google-auth-oauthlib<0.5,>=0.4.1 in /usr/local/lib/python3.9/dist-packages (from tensorboard<2.12,>=2.11->tensorflow~=2.11.0->tf-models-official) (0.4.6)\n",
      "Requirement already satisfied: werkzeug>=1.0.1 in /usr/local/lib/python3.9/dist-packages (from tensorboard<2.12,>=2.11->tensorflow~=2.11.0->tf-models-official) (2.1.2)\n",
      "Requirement already satisfied: tensorboard-data-server<0.7.0,>=0.6.0 in /usr/local/lib/python3.9/dist-packages (from tensorboard<2.12,>=2.11->tensorflow~=2.11.0->tf-models-official) (0.6.1)\n",
      "Requirement already satisfied: markdown>=2.6.8 in /usr/local/lib/python3.9/dist-packages (from tensorboard<2.12,>=2.11->tensorflow~=2.11.0->tf-models-official) (3.3.7)\n",
      "Requirement already satisfied: requests-oauthlib>=0.7.0 in /usr/local/lib/python3.9/dist-packages (from google-auth-oauthlib<0.5,>=0.4.1->tensorboard<2.12,>=2.11->tensorflow~=2.11.0->tf-models-official) (1.3.1)\n",
      "Requirement already satisfied: importlib-metadata>=4.4 in /usr/local/lib/python3.9/dist-packages (from markdown>=2.6.8->tensorboard<2.12,>=2.11->tensorflow~=2.11.0->tf-models-official) (4.12.0)\n",
      "Requirement already satisfied: oauthlib>=3.0.0 in /usr/local/lib/python3.9/dist-packages (from requests-oauthlib>=0.7.0->google-auth-oauthlib<0.5,>=0.4.1->tensorboard<2.12,>=2.11->tensorflow~=2.11.0->tf-models-official) (3.2.0)\n",
      "Building wheels for collected packages: kaggle, pycocotools, seqeval, promise\n",
      "  Building wheel for kaggle (setup.py) ... \u001b[?25ldone\n",
      "\u001b[?25h  Created wheel for kaggle: filename=kaggle-1.5.12-py3-none-any.whl size=73031 sha256=9e2d213cc0d2df744a5455f8b94c8eff16379c7d577b9ebedb8271bd05f93cb0\n",
      "  Stored in directory: /root/.cache/pip/wheels/ac/b2/c3/fa4706d469b5879105991d1c8be9a3c2ef329ba9fe2ce5085e\n",
      "  Building wheel for pycocotools (pyproject.toml) ... \u001b[?25ldone\n",
      "\u001b[?25h  Created wheel for pycocotools: filename=pycocotools-2.0.6-cp39-cp39-linux_x86_64.whl size=400229 sha256=78ebd0dd1f9fc6ef8812ffded3e16a8d36dd4f633297e038458c1ac45385120b\n",
      "  Stored in directory: /root/.cache/pip/wheels/2f/58/25/e78f1f766e904a9071266661d20d0bc6644df86bcd160aba11\n",
      "  Building wheel for seqeval (setup.py) ... \u001b[?25ldone\n",
      "\u001b[?25h  Created wheel for seqeval: filename=seqeval-1.2.2-py3-none-any.whl size=16164 sha256=e76fa7d0eff8c379247cf21937fdc21aa788402077bb6ff855f6b532775f63cb\n",
      "  Stored in directory: /root/.cache/pip/wheels/e2/a5/92/2c80d1928733611c2747a9820e1324a6835524d9411510c142\n",
      "  Building wheel for promise (setup.py) ... \u001b[?25ldone\n",
      "\u001b[?25h  Created wheel for promise: filename=promise-2.3-py3-none-any.whl size=21486 sha256=88889aab66882ce665c9bca1457a9b945e07702a7e1f3146e39cba94a304d009\n",
      "  Stored in directory: /root/.cache/pip/wheels/e1/e8/83/ddea66100678d139b14bc87692ece57c6a2a937956d2532608\n",
      "Successfully built kaggle pycocotools seqeval promise\n",
      "Installing collected packages: py-cpuinfo, gin-config, dm-tree, uritemplate, typeguard, toml, tf-slim, tensorflow-model-optimization, tabulate, protobuf, promise, portalocker, opencv-python-headless, immutabledict, httplib2, etils, tensorflow-hub, tensorflow-addons, sacrebleu, oauth2client, kaggle, googleapis-common-protos, google-auth, tensorflow-metadata, seqeval, pycocotools, google-auth-httplib2, google-api-core, tensorflow-datasets, google-api-python-client, tensorflow-text, tf-models-official\n",
      "  Attempting uninstall: protobuf\n",
      "    Found existing installation: protobuf 3.19.4\n",
      "    Uninstalling protobuf-3.19.4:\n",
      "      Successfully uninstalled protobuf-3.19.4\n",
      "  Attempting uninstall: etils\n",
      "    Found existing installation: etils 0.6.0\n",
      "    Uninstalling etils-0.6.0:\n",
      "      Successfully uninstalled etils-0.6.0\n",
      "  Attempting uninstall: google-auth\n",
      "    Found existing installation: google-auth 2.9.0\n",
      "    Uninstalling google-auth-2.9.0:\n",
      "      Successfully uninstalled google-auth-2.9.0\n",
      "Successfully installed dm-tree-0.1.8 etils-1.0.0 gin-config-0.5.0 google-api-core-2.11.0 google-api-python-client-2.73.0 google-auth-2.16.0 google-auth-httplib2-0.1.0 googleapis-common-protos-1.58.0 httplib2-0.21.0 immutabledict-2.2.3 kaggle-1.5.12 oauth2client-4.1.3 opencv-python-headless-4.7.0.68 portalocker-2.7.0 promise-2.3 protobuf-3.19.6 py-cpuinfo-9.0.0 pycocotools-2.0.6 sacrebleu-2.3.1 seqeval-1.2.2 tabulate-0.9.0 tensorflow-addons-0.19.0 tensorflow-datasets-4.8.2 tensorflow-hub-0.12.0 tensorflow-metadata-1.12.0 tensorflow-model-optimization-0.7.3 tensorflow-text-2.11.0 tf-models-official-2.11.3 tf-slim-1.1.0 toml-0.10.2 typeguard-2.13.3 uritemplate-4.1.1\n",
      "\u001b[33mWARNING: Running pip as the 'root' user can result in broken permissions and conflicting behaviour with the system package manager. It is recommended to use a virtual environment instead: https://pip.pypa.io/warnings/venv\u001b[0m\u001b[33m\n",
      "\u001b[0m"
     ]
    }
   ],
   "source": [
    "! pip install tensorflow_ranking\n",
    "! pip install tf-models-official"
   ]
  },
  {
   "cell_type": "markdown",
   "metadata": {
    "id": "_vhNPIR0X4M0"
   },
   "source": [
    "## TFRBert Utilities\n",
    "1.   TFRBertRankingNetwork\n",
    "2.   TFRBertUtil\n",
    "3.   TFRBertUtilJSON"
   ]
  },
  {
   "cell_type": "code",
   "execution_count": 19,
   "metadata": {
    "execution": {
     "iopub.execute_input": "2023-01-19T13:51:31.177376Z",
     "iopub.status.busy": "2023-01-19T13:51:31.176673Z",
     "iopub.status.idle": "2023-01-19T13:51:33.170543Z",
     "shell.execute_reply": "2023-01-19T13:51:33.170012Z",
     "shell.execute_reply.started": "2023-01-19T13:51:31.177355Z"
    },
    "id": "gWdNo8HmX3vR"
   },
   "outputs": [
    {
     "name": "stderr",
     "output_type": "stream",
     "text": [
      "2023-01-19 13:51:31.198287: I tensorflow/core/platform/cpu_feature_guard.cc:193] This TensorFlow binary is optimized with oneAPI Deep Neural Network Library (oneDNN) to use the following CPU instructions in performance-critical operations:  AVX2 FMA\n",
      "To enable them in other operations, rebuild TensorFlow with the appropriate compiler flags.\n",
      "2023-01-19 13:51:31.983777: W tensorflow/compiler/xla/stream_executor/platform/default/dso_loader.cc:64] Could not load dynamic library 'libnvinfer.so.7'; dlerror: libnvinfer.so.7: cannot open shared object file: No such file or directory; LD_LIBRARY_PATH: /usr/local/nvidia/lib:/usr/local/nvidia/lib64\n",
      "2023-01-19 13:51:31.983863: W tensorflow/compiler/xla/stream_executor/platform/default/dso_loader.cc:64] Could not load dynamic library 'libnvinfer_plugin.so.7'; dlerror: libnvinfer_plugin.so.7: cannot open shared object file: No such file or directory; LD_LIBRARY_PATH: /usr/local/nvidia/lib:/usr/local/nvidia/lib64\n",
      "2023-01-19 13:51:31.983873: W tensorflow/compiler/tf2tensorrt/utils/py_utils.cc:38] TF-TRT Warning: Cannot dlopen some TensorRT libraries. If you would like to use Nvidia GPU with TensorRT, please make sure the missing libraries mentioned above are installed properly.\n"
     ]
    }
   ],
   "source": [
    "import tensorflow as tf\n",
    "import tensorflow_ranking as tfr\n",
    "\n",
    "from official.modeling import activations\n",
    "from official.nlp import optimization\n",
    "from official.nlp.tools import tokenization\n",
    "from official.nlp.configs import encoders\n",
    "from official.nlp.modeling import networks as tfmodel_networks\n",
    "from tensorflow_ranking.python.keras import network as tfrkeras_network\n",
    "from tensorflow_serving.apis import input_pb2\n",
    "\n",
    "\n",
    "class TFRBertUtil(object):\n",
    "  \"\"\"Class that defines a set of utility functions for Bert.\"\"\"\n",
    "\n",
    "  def __init__(self,\n",
    "               bert_config_file,\n",
    "               bert_init_ckpt,\n",
    "               bert_max_seq_length,\n",
    "               bert_vocab_file=None,\n",
    "               do_lower_case=None):\n",
    "    \"\"\"Constructor.\n",
    "    Args:\n",
    "      bert_config_file: (string) path to Bert configuration file.\n",
    "      bert_init_ckpt: (string)  path to pretrained Bert checkpoint.\n",
    "      bert_max_seq_length: (int) maximum input sequence length (#words) after\n",
    "        WordPiece tokenization. Sequences longer than this will be truncated,\n",
    "        and shorter than this will be padded.\n",
    "      bert_vocab_file (optional): (string) path to Bert vocabulary file.\n",
    "      do_lower_case (optional): (bool) whether to lower case the input text.\n",
    "        This should be aligned with the `vocab_file`.\n",
    "    \"\"\"\n",
    "    self._bert_config_file = bert_config_file\n",
    "    self._bert_init_ckpt = bert_init_ckpt\n",
    "    self._bert_max_seq_length = bert_max_seq_length\n",
    "\n",
    "    self._tokenizer = None\n",
    "    if bert_vocab_file is not None and do_lower_case is not None:\n",
    "      self._tokenizer = tokenization.FullTokenizer(\n",
    "          vocab_file=bert_vocab_file, do_lower_case=do_lower_case)\n",
    "\n",
    "  def create_optimizer(self,\n",
    "                       init_lr,\n",
    "                       train_steps,\n",
    "                       warmup_steps,\n",
    "                       optimizer_type=\"adamw\"):\n",
    "    \"\"\"Creates an optimizer for TFR-BERT.\n",
    "    Args:\n",
    "      init_lr: (float) the init learning rate.\n",
    "      train_steps: (int) the number of train steps.\n",
    "      warmup_steps: (int) if global_step < num_warmup_steps, the learning rate\n",
    "        will be `global_step / num_warmup_steps * init_lr`. See more details in\n",
    "        the `tensorflow_models.official.nlp.optimization.py` file.\n",
    "      optimizer_type: (string) Optimizer type, can either be `adamw` or `lamb`.\n",
    "        Default to be the `adamw` (AdamWeightDecay). See more details in the\n",
    "        `tensorflow_models.official.nlp.optimization.py` file.\n",
    "    Returns:\n",
    "      The optimizer training op.\n",
    "    \"\"\"\n",
    "\n",
    "    return optimization.create_optimizer(\n",
    "        init_lr=init_lr,\n",
    "        num_train_steps=train_steps,\n",
    "        num_warmup_steps=warmup_steps,\n",
    "        optimizer_type=optimizer_type)\n",
    "\n",
    "  def get_warm_start_settings(self, exclude):\n",
    "    \"\"\"Defines warm-start settings for the TFRBert ranking estimator.\n",
    "    Our TFRBert ranking models will warm-start from a pre-trained Bert model.\n",
    "    Here, we define the warm-start setting by excluding non-Bert parameters.\n",
    "    Args:\n",
    "      exclude: (string) Variable to exclude from the warm-start settings.\n",
    "    Returns:\n",
    "      (`tf.estimator.WarmStartSettings`) the warm-start setting for the TFRBert\n",
    "      ranking estimator.\n",
    "    \"\"\"\n",
    "    # A regular expression to exclude the variables starting with the passed-in\n",
    "    # `exclude` parameter. Variables from the downloaded Bert checkpoints often\n",
    "    # start with `transformer`, `pooler`, `embeddings` and etc., whereas other\n",
    "    # variables specifically to the TFRBertRankingNetwork start with the `name`\n",
    "    # we passed to the `TFRBertRankingNetwork` constructor. When defining the\n",
    "    # warm-start settings, we exclude those non-Bert variables.\n",
    "    vars_to_warm_start = \"^(?!{exclude}).*$\".format(exclude=exclude)\n",
    "    return tf.estimator.WarmStartSettings(\n",
    "        ckpt_to_initialize_from=self._bert_init_ckpt,\n",
    "        vars_to_warm_start=vars_to_warm_start)\n",
    "\n",
    "  def _truncate_seq_pair(self, tokens_a, tokens_b, max_length):\n",
    "    \"\"\"Truncates a sequence pair in place to the maximum length.\"\"\"\n",
    "    # This is a simple heuristic which truncates the longer sequence until\n",
    "    # their combined length is no longer than max_length.\n",
    "    # This makes more sense than truncating with an equal percentage of tokens\n",
    "    # from each, since if a sequence is very short then each token that's\n",
    "    # truncated likely contains more information than a longer sequence.\n",
    "    assert max_length > 0\n",
    "    assert isinstance(max_length, int)\n",
    "    if len(tokens_a) + len(tokens_b) > max_length:\n",
    "      # Truncation is needed.\n",
    "      if (len(tokens_a) >= max_length - max_length // 2 and\n",
    "          len(tokens_b) >= max_length // 2):\n",
    "        # Truncate both sequences until they have almost equal lengths and the\n",
    "        # combined length is no longer than max_length\n",
    "        del tokens_a[max_length - max_length // 2:]\n",
    "        del tokens_b[max_length // 2:]\n",
    "      elif len(tokens_a) > len(tokens_b):\n",
    "        # Only truncating tokens_a would suffice\n",
    "        del tokens_a[max_length - len(tokens_b):]\n",
    "      else:\n",
    "        # Only truncating tokens_b would suffice\n",
    "        del tokens_b[max_length - len(tokens_a):]\n",
    "\n",
    "  def _to_bert_ids(self, sent_a, sent_b=None):\n",
    "    \"\"\"Converts a sentence pair (sent_a, sent_b) to related Bert ids.\n",
    "    This function is mostly adopted from run_classifier.convert_single_example\n",
    "    in bert/run_classifier.py.\n",
    "    Args:\n",
    "      sent_a: (str) the raw text of the first sentence.\n",
    "      sent_b: (str) the raw text of the second sentence.\n",
    "    Returns:\n",
    "      A tuple (`input_ids`, `input_masks`, `segment_ids`) for Bert finetuning.\n",
    "    \"\"\"\n",
    "\n",
    "    if self._tokenizer is None:\n",
    "      raise ValueError(\"Please pass both `vocab_file` and `do_lower_case` in \"\n",
    "                       \"the BertUtil constructor to build a Bert tokenizer!\")\n",
    "\n",
    "    if sent_a is None:\n",
    "      raise ValueError(\"`sent_a` cannot be None!\")\n",
    "\n",
    "    tokens_a = self._tokenizer.tokenize(sent_a)\n",
    "    tokens_b = None if not sent_b else self._tokenizer.tokenize(sent_b)\n",
    "\n",
    "    if tokens_b:\n",
    "      # Modifies `tokens_a` and `tokens_b` in place so that the total length is\n",
    "      # less than the specified length. Since the final sequence will be\n",
    "      # [CLS] `tokens_a` [SEP] `tokens_b` [SEP], thus, we use `- 3`.\n",
    "      self._truncate_seq_pair(tokens_a, tokens_b, self._bert_max_seq_length - 3)\n",
    "    else:\n",
    "      # Account for [CLS] and [SEP] with \"- 2\".  Since there is only one\n",
    "      # sentence, we don't need to account for the second [SEP].\n",
    "      self._truncate_seq_pair(tokens_a, [], self._bert_max_seq_length - 2)\n",
    "\n",
    "    # The convention in BERT for sequence pairs:\n",
    "    #  tokens:   [CLS] is this jack ##son ##ville ? [SEP] no it is not . [SEP]\n",
    "    #  type_ids: 0     0  0    0    0     0       0 0     1  1  1  1   1 1\n",
    "    #\n",
    "    # The `type_ids` (aka. `segment_ids`) are used to indicate whether this is\n",
    "    # the first or the second sequence. The embedding vectors for `type=0` and\n",
    "    # `type=1` were learned during pre-training and are added to the wordpiece\n",
    "    # embedding vector (and position vector). This is not *strictly* necessary\n",
    "    # since the [SEP] token unambiguously separates the sequences, but it makes\n",
    "    # it easier for the model to learn the concept of sequences.\n",
    "    #\n",
    "    # For classification tasks, the first vector (corresponding to [CLS]) is\n",
    "    # used as the \"sentence vector\". Note that this only makes sense because\n",
    "    # the entire model is fine-tuned.\n",
    "    #\n",
    "    # When there is only one sentence given, the sequence pair would be:\n",
    "    #  tokens:   [CLS] is this jack ##son ##ville ? [SEP]\n",
    "    #  type_ids: 0     0  0    0    0     0       0 0\n",
    "\n",
    "    tokens = [\"[CLS]\"] + tokens_a + [\"[SEP]\"]\n",
    "    segment_ids = [0] + [0] * len(tokens_a) + [0]\n",
    "    if tokens_b:\n",
    "      tokens += tokens_b + [\"[SEP]\"]\n",
    "      segment_ids += [1] * len(tokens_b) + [1]\n",
    "    input_ids = self._tokenizer.convert_tokens_to_ids(tokens)\n",
    "\n",
    "    # The mask has 1 for real tokens and 0 for padding tokens. Only real\n",
    "    # tokens are attended to.\n",
    "    input_mask = [1] * len(input_ids)\n",
    "\n",
    "    # Zero-pad up to the sequence length.\n",
    "    if len(input_ids) < self._bert_max_seq_length:\n",
    "      padding_len = self._bert_max_seq_length - len(input_ids)\n",
    "      input_ids.extend([0] * padding_len)\n",
    "      input_mask.extend([0] * padding_len)\n",
    "      segment_ids.extend([0] * padding_len)\n",
    "\n",
    "    assert len(input_ids) == self._bert_max_seq_length\n",
    "    assert len(input_mask) == self._bert_max_seq_length\n",
    "    assert len(segment_ids) == self._bert_max_seq_length\n",
    "\n",
    "    return input_ids, input_mask, segment_ids\n",
    "\n",
    "  def convert_to_elwc(self, context, examples, query_ids, document_ids, labels, label_name):\n",
    "    \"\"\"Converts a <context, example list> pair to an ELWC example.\n",
    "    Args:\n",
    "      context: (str) raw text for a context (aka. query).\n",
    "      examples: (list) raw texts for a list of examples (aka. documents).\n",
    "      labels: (list) a list of labels (int) for the `examples`.\n",
    "      label_name: (str) name of the label in the ELWC example.\n",
    "    Returns:\n",
    "      A tensorflow.serving.ExampleListWithContext example containing the\n",
    "      `input_ids`, `input_masks`, `segment_ids` and `label_id` fields.\n",
    "    \"\"\"\n",
    "    if len(examples) != len(labels):\n",
    "      raise ValueError(\"`examples` and `labels` should have the same size!\")\n",
    "\n",
    "    elwc = input_pb2.ExampleListWithContext()\n",
    "    for example, label, query_id, document_id in zip(examples, labels, query_ids, document_ids):\n",
    "      (input_ids, input_mask, segment_ids) = self._to_bert_ids(context, example)\n",
    "\n",
    "      feature = {\n",
    "          \"input_ids\":\n",
    "              tf.train.Feature(int64_list=tf.train.Int64List(value=input_ids)),\n",
    "          \"input_mask\":\n",
    "              tf.train.Feature(int64_list=tf.train.Int64List(value=input_mask)),\n",
    "          \"segment_ids\":\n",
    "              tf.train.Feature(\n",
    "                  int64_list=tf.train.Int64List(value=segment_ids)),\n",
    "          label_name:\n",
    "              tf.train.Feature(int64_list=tf.train.Int64List(value=[label])),\n",
    "          'query_id':\n",
    "              tf.train.Feature(int64_list=tf.train.Int64List(value=[query_id])),\n",
    "          'document_id':\n",
    "              tf.train.Feature(int64_list=tf.train.Int64List(value=[document_id]))\n",
    "      }\n",
    "      tf_example = tf.train.Example(features=tf.train.Features(feature=feature))\n",
    "      elwc.examples.append(tf_example)\n",
    "\n",
    "    return elwc\n",
    "\n",
    "\n",
    "class TFRBertUtilJSON(object):\n",
    "\n",
    "    def __init__(self, TFRBertUtil):\n",
    "        self.TFRBertUtilHelper = TFRBertUtil        \n",
    "\n",
    "    # Helper function for making toy data\n",
    "    # Out: Returns toy ranking data data in ELWC format\n",
    "    def mkToyRankingRecord(self):\n",
    "        query = \"Where can you buy cat food?\"\n",
    "        documents = [\"The pet food store\", \"Bicycles have two wheels\", \"The grocery store\", \"Cats eat cat food\"]\n",
    "        labels = [3, 1, 3, 2]\n",
    "        label_name = \"relevance\"\n",
    "        elwcOut = self.TFRBertUtilHelper.convert_to_elwc(query, documents, labels, label_name)\n",
    "\n",
    "        # (DEBUG) Examine the structure of the ELWC records for tfr-bert\n",
    "        # print(elwcOut)\n",
    "\n",
    "        return elwcOut\n",
    "\n",
    "\n",
    "    # Conversion function for converting easily-read JSON into TFR-Bert's ELWC format, and exporting to file\n",
    "    # In: filename of JSON with ranking problems (see example json files for output)\n",
    "    # Out: creates TFrecord output file, also returns list of ranking problems read in from JSON\n",
    "    def convert_json_to_elwc_export(self, filenameJsonIn, filenameTFRecordOut):\n",
    "        # Step 1: Convert JSON to ELWC\n",
    "        (listToRank, listJsonRaw) = self.convert_json_to_elwc(filenameJsonIn)\n",
    "\n",
    "        # Step 2: Save ELWC to file\n",
    "        try:\n",
    "            with tf.io.TFRecordWriter(filenameTFRecordOut) as writer:\n",
    "                for example in listToRank * 10:\n",
    "                    writer.write(example.SerializeToString())\n",
    "        except:\n",
    "            print(\"convert_json_to_elwc_export: error writing ELWC file (filename = \" + filenameTFRecordOut + \")\")\n",
    "            exit(1)\n",
    "        \n",
    "        # Step 3: Also return ranking problem in JSON format, for use in scoring/exporting\n",
    "        return listJsonRaw\n",
    "\n",
    "\n",
    "    # Conversion function for converting easily-read JSON into TFR-Bert's ELWC format\n",
    "    # In: JSON filename\n",
    "    # Out: List of ELWC records, list of original JSON records\n",
    "    def convert_json_to_elwc(self, filenameJsonIn):\n",
    "        # Step 1: Load JSON file\n",
    "        listToRankELWC = []\n",
    "        listJsonRaw = []\n",
    "        try:\n",
    "            with open(filenameJsonIn) as json_file:\n",
    "                # Load whole JSON file\n",
    "                data = json.load(json_file)\n",
    "\n",
    "                # Parse each record\n",
    "                for rankingProblem in data['rankingProblems']:\n",
    "                    labels = []\n",
    "                    docTexts = []\n",
    "                    query_ids = []\n",
    "                    document_ids = []\n",
    "\n",
    "                    queryText = rankingProblem['queryText']\n",
    "                    documents = rankingProblem['documents']\n",
    "                    for document in documents:\n",
    "                        docText = document['docText']\n",
    "                        docRel = document['relevance']      # Convert to int?\n",
    "                        qid = document['query_id']\n",
    "                        doc_id = document['document_id'] \n",
    "\n",
    "                        labels.append(docRel)\n",
    "                        docTexts.append(docText)\n",
    "                        query_ids.append(qid)\n",
    "                        document_ids.append(doc_id)\n",
    "\n",
    "                    # Step 1A: Convert this record to ELWC\n",
    "                    elwcOut = self.TFRBertUtilHelper.convert_to_elwc(queryText, docTexts, query_ids, document_ids, labels, label_name=\"relevance\")\n",
    "                    listToRankELWC.append(elwcOut)\n",
    "                    # Step 1B: Also store the raw record, for exporting output in the same format it was read in\n",
    "                    listJsonRaw.append(rankingProblem)\n",
    "\n",
    "        except Exception as e:\n",
    "            print(e)\n",
    "            print(\"convert_json_to_elwc_export: error loading JSON file (filename = \" + filenameJsonIn + \")\")\n",
    "            exit(1)\n",
    "\n",
    "        return (listToRankELWC, listJsonRaw)"
   ]
  },
  {
   "cell_type": "markdown",
   "metadata": {
    "id": "t35V7hJp6PAc"
   },
   "source": [
    "## Hands on TFRBert"
   ]
  },
  {
   "cell_type": "code",
   "execution_count": 20,
   "metadata": {
    "execution": {
     "iopub.execute_input": "2023-01-19T13:51:34.053992Z",
     "iopub.status.busy": "2023-01-19T13:51:34.052850Z",
     "iopub.status.idle": "2023-01-19T13:51:34.124112Z",
     "shell.execute_reply": "2023-01-19T13:51:34.123533Z",
     "shell.execute_reply.started": "2023-01-19T13:51:34.053962Z"
    },
    "id": "jsBmPZAM6N8d"
   },
   "outputs": [],
   "source": [
    "def create_tfrbert_util_with_vocab(bertMaxSeqLength, bertVocabFile, do_lower_case=True):\n",
    "    # bertMaxSeqLength typically 128, 256, 512\n",
    "    return TFRBertUtil(\n",
    "            bert_config_file=None,\n",
    "            bert_init_ckpt=None,\n",
    "            bert_max_seq_length=bertMaxSeqLength,\n",
    "            bert_vocab_file=bertVocabFile,\n",
    "            do_lower_case=do_lower_case)\n",
    "    \n",
    "bert_helper = create_tfrbert_util_with_vocab(sequence_length, vocab_file, do_lower_case)\n",
    "bert_helper_json = TFRBertUtilJSON(bert_helper)"
   ]
  },
  {
   "cell_type": "code",
   "execution_count": 21,
   "metadata": {
    "execution": {
     "iopub.execute_input": "2023-01-19T13:51:35.238374Z",
     "iopub.status.busy": "2023-01-19T13:51:35.237443Z",
     "iopub.status.idle": "2023-01-19T13:51:38.677322Z",
     "shell.execute_reply": "2023-01-19T13:51:38.676673Z",
     "shell.execute_reply.started": "2023-01-19T13:51:35.238342Z"
    },
    "id": "6dxkycBfDqU1"
   },
   "outputs": [],
   "source": [
    "for split_set, split_type in zip([therapist_train, therapist_test], [\"therapist_train\", \"therapist_test\"]):\n",
    "    json_dict = df_to_json_dict(split_set, relevance_field=relevance_label_field)\n",
    "    json_file = relevance_label_field + '_' + split_type + '.json'\n",
    "    with open(json_file, 'w') as f:\n",
    "        json.dump(json_dict, f)\n",
    "    bert_helper_json.convert_json_to_elwc_export(json_file, relevance_label_field + '_' + split_type + '.tfrecord')"
   ]
  },
  {
   "cell_type": "markdown",
   "metadata": {
    "id": "GK4SfynCFgY3"
   },
   "source": [
    "Prepare the TFRBert Config and Data Config"
   ]
  },
  {
   "cell_type": "code",
   "execution_count": 22,
   "metadata": {
    "execution": {
     "iopub.execute_input": "2023-01-19T13:51:39.133642Z",
     "iopub.status.busy": "2023-01-19T13:51:39.133258Z",
     "iopub.status.idle": "2023-01-19T13:51:39.388256Z",
     "shell.execute_reply": "2023-01-19T13:51:39.387549Z",
     "shell.execute_reply.started": "2023-01-19T13:51:39.133619Z"
    },
    "id": "6tE25jpWFm46"
   },
   "outputs": [],
   "source": [
    "from tensorflow_ranking.extension.premade import tfrbert_task\n",
    "\n",
    "train_data_config = tfrbert_task.TFRBertDataConfig(\n",
    "    input_path=relevance_label_field + '_' + \"therapist_train.tfrecord\",\n",
    "    is_training=True,\n",
    "    global_batch_size=8,\n",
    "    list_size=list_size,\n",
    "    dataset_fn='tfrecord',\n",
    "    seq_length=sequence_length,\n",
    "    read_query_id=True,\n",
    "    read_document_id=True)\n",
    "\n",
    "validation_data_config = tfrbert_task.TFRBertDataConfig(\n",
    "    input_path=relevance_label_field + '_' + \"therapist_test.tfrecord\",\n",
    "    is_training=False,\n",
    "    global_batch_size=8,\n",
    "    list_size=list_size,\n",
    "    dataset_fn='tfrecord',\n",
    "    seq_length=sequence_length,\n",
    "    read_query_id=True,\n",
    "    read_document_id=True)"
   ]
  },
  {
   "cell_type": "code",
   "execution_count": 23,
   "metadata": {
    "execution": {
     "iopub.execute_input": "2023-01-19T13:51:41.925750Z",
     "iopub.status.busy": "2023-01-19T13:51:41.925431Z",
     "iopub.status.idle": "2023-01-19T13:51:41.931989Z",
     "shell.execute_reply": "2023-01-19T13:51:41.931201Z",
     "shell.execute_reply.started": "2023-01-19T13:51:41.925726Z"
    },
    "id": "X8C6CzzeJVt-"
   },
   "outputs": [],
   "source": [
    "# Set up task config\n",
    "task_config = tfrbert_task.TFRBertConfig(\n",
    "    init_checkpoint=os.path.join(BERT_DIR, 'bert_model.ckpt'),\n",
    "    train_data=train_data_config,\n",
    "    validation_data=validation_data_config,\n",
    "    model=tfrbert_task.TFRBertModelConfig(\n",
    "        encoder=encoders.EncoderConfig(\n",
    "            bert=encoders.BertEncoderConfig(num_layers=12))),\n",
    "    aggregated_metrics=True,\n",
    "    output_preds=True\n",
    ")\n",
    "\n",
    "# Set up TFRBertTask\n",
    "task = tfrbert_task.TFRBertTask(\n",
    "    task_config,\n",
    "    label_spec=(\n",
    "        \"relevance\",\n",
    "        tf.io.FixedLenFeature(shape=(1,), dtype=tf.int64, default_value=-1)\n",
    "    ),\n",
    "    dataset_fn=tf.data.TFRecordDataset,\n",
    "    logging_dir='/tmp/model_dir'\n",
    ")"
   ]
  },
  {
   "cell_type": "markdown",
   "metadata": {
    "id": "wLat0GC3JnA8"
   },
   "source": [
    "## Train Step"
   ]
  },
  {
   "cell_type": "code",
   "execution_count": 24,
   "metadata": {
    "execution": {
     "iopub.execute_input": "2023-01-19T13:51:44.597291Z",
     "iopub.status.busy": "2023-01-19T13:51:44.596636Z",
     "iopub.status.idle": "2023-01-19T13:51:44.601719Z",
     "shell.execute_reply": "2023-01-19T13:51:44.601055Z",
     "shell.execute_reply.started": "2023-01-19T13:51:44.597262Z"
    }
   },
   "outputs": [],
   "source": [
    "def output_preds(aggregated_logs, data_type=\"test\"):\n",
    "    import time\n",
    "    flattened_aggregated_logs = {\n",
    "        key: np.reshape(np.concatenate(logs, axis=0), -1)\n",
    "        for key, logs in aggregated_logs.items()\n",
    "    }\n",
    "\n",
    "    # Output predictions, labels, query ids and document ids to a csv file.\n",
    "    output_path = os.path.join(os.pardir, 'predictions', 'tfrbert', f'{data_type}_{relevance_label_field}_prediction_{time.strftime(\"%s\", time.localtime())}.csv')\n",
    "    flattened_output_logs = {\n",
    "        key: flattened_aggregated_logs[key]\n",
    "        for key in list(task._get_output_feature_names()) + ['prediction', 'label']\n",
    "    }\n",
    "    task._write_as_csv(flattened_output_logs, output_path)\n",
    "    return output_path"
   ]
  },
  {
   "cell_type": "code",
   "execution_count": 25,
   "metadata": {
    "colab": {
     "base_uri": "https://localhost:8080/"
    },
    "execution": {
     "iopub.execute_input": "2023-01-19T13:51:46.630598Z",
     "iopub.status.busy": "2023-01-19T13:51:46.630278Z",
     "iopub.status.idle": "2023-01-19T13:52:16.806789Z",
     "shell.execute_reply": "2023-01-19T13:52:16.806005Z",
     "shell.execute_reply.started": "2023-01-19T13:51:46.630574Z"
    },
    "id": "jROpGvH_JmDH",
    "outputId": "77eface1-fc32-4afb-f824-267f2f6000e8"
   },
   "outputs": [
    {
     "name": "stdout",
     "output_type": "stream",
     "text": [
      "WARNING:tensorflow:From /usr/local/lib/python3.9/dist-packages/tensorflow/python/autograph/pyct/static_analysis/liveness.py:83: Analyzer.lamba_check (from tensorflow.python.autograph.pyct.static_analysis.liveness) is deprecated and will be removed after 2023-09-23.\n",
      "Instructions for updating:\n",
      "Lambda fuctions will be no more assumed to be used in the statement where they are used, or at least in the same block. https://github.com/tensorflow/tensorflow/issues/56089\n"
     ]
    },
    {
     "name": "stderr",
     "output_type": "stream",
     "text": [
      "WARNING:tensorflow:From /usr/local/lib/python3.9/dist-packages/tensorflow/python/autograph/pyct/static_analysis/liveness.py:83: Analyzer.lamba_check (from tensorflow.python.autograph.pyct.static_analysis.liveness) is deprecated and will be removed after 2023-09-23.\n",
      "Instructions for updating:\n",
      "Lambda fuctions will be no more assumed to be used in the statement where they are used, or at least in the same block. https://github.com/tensorflow/tensorflow/issues/56089\n",
      "WARNING:absl:`lr` is deprecated, please use `learning_rate` instead, or use the legacy optimizer, e.g.,tf.keras.optimizers.legacy.Adam.\n",
      "/usr/local/lib/python3.9/dist-packages/keras/engine/functional.py:638: UserWarning: Input dict contained keys ['document_id', 'query_id'] which did not match any model input. They will be ignored by the model.\n",
      "  inputs = self._flatten_to_reference_inputs(inputs)\n"
     ]
    },
    {
     "name": "stdout",
     "output_type": "stream",
     "text": [
      "WARNING:tensorflow:5 out of the last 5 calls to <function _BaseOptimizer._update_step_xla at 0x7f7e8c675280> triggered tf.function retracing. Tracing is expensive and the excessive number of tracings could be due to (1) creating @tf.function repeatedly in a loop, (2) passing tensors with different shapes, (3) passing Python objects instead of tensors. For (1), please define your @tf.function outside of the loop. For (2), @tf.function has reduce_retracing=True option that can avoid unnecessary retracing. For (3), please refer to https://www.tensorflow.org/guide/function#controlling_retracing and https://www.tensorflow.org/api_docs/python/tf/function for  more details.\n"
     ]
    },
    {
     "name": "stderr",
     "output_type": "stream",
     "text": [
      "WARNING:tensorflow:5 out of the last 5 calls to <function _BaseOptimizer._update_step_xla at 0x7f7e8c675280> triggered tf.function retracing. Tracing is expensive and the excessive number of tracings could be due to (1) creating @tf.function repeatedly in a loop, (2) passing tensors with different shapes, (3) passing Python objects instead of tensors. For (1), please define your @tf.function outside of the loop. For (2), @tf.function has reduce_retracing=True option that can avoid unnecessary retracing. For (3), please refer to https://www.tensorflow.org/guide/function#controlling_retracing and https://www.tensorflow.org/api_docs/python/tf/function for  more details.\n"
     ]
    },
    {
     "name": "stdout",
     "output_type": "stream",
     "text": [
      "WARNING:tensorflow:6 out of the last 6 calls to <function _BaseOptimizer._update_step_xla at 0x7f7e8c675280> triggered tf.function retracing. Tracing is expensive and the excessive number of tracings could be due to (1) creating @tf.function repeatedly in a loop, (2) passing tensors with different shapes, (3) passing Python objects instead of tensors. For (1), please define your @tf.function outside of the loop. For (2), @tf.function has reduce_retracing=True option that can avoid unnecessary retracing. For (3), please refer to https://www.tensorflow.org/guide/function#controlling_retracing and https://www.tensorflow.org/api_docs/python/tf/function for  more details.\n"
     ]
    },
    {
     "name": "stderr",
     "output_type": "stream",
     "text": [
      "WARNING:tensorflow:6 out of the last 6 calls to <function _BaseOptimizer._update_step_xla at 0x7f7e8c675280> triggered tf.function retracing. Tracing is expensive and the excessive number of tracings could be due to (1) creating @tf.function repeatedly in a loop, (2) passing tensors with different shapes, (3) passing Python objects instead of tensors. For (1), please define your @tf.function outside of the loop. For (2), @tf.function has reduce_retracing=True option that can avoid unnecessary retracing. For (3), please refer to https://www.tensorflow.org/guide/function#controlling_retracing and https://www.tensorflow.org/api_docs/python/tf/function for  more details.\n"
     ]
    },
    {
     "name": "stdout",
     "output_type": "stream",
     "text": [
      "Training metrics for epoch: 0  {'MAP': 0.8795061, 'NDCG@1': 0.875, 'NDCG@5': 0.8482517, 'NDCG@10': 0.8966707, 'MRR@1': 0.875, 'MRR@5': 0.9375, 'MRR@10': 0.9375}\n",
      "Training metrics for epoch: 1  {'MAP': 0.8558681, 'NDCG@1': 0.875, 'NDCG@5': 0.817548, 'NDCG@10': 0.8871325, 'MRR@1': 0.875, 'MRR@5': 0.9270834, 'MRR@10': 0.9270834}\n",
      "Training metrics for epoch: 2  {'MAP': 0.8789794, 'NDCG@1': 0.875, 'NDCG@5': 0.8492314, 'NDCG@10': 0.8980453, 'MRR@1': 0.875, 'MRR@5': 0.9305556, 'MRR@10': 0.9305556}\n",
      "Training metrics for epoch: 3  {'MAP': 0.8442297, 'NDCG@1': 0.84375, 'NDCG@5': 0.80852544, 'NDCG@10': 0.87117064, 'MRR@1': 0.84375, 'MRR@5': 0.9166667, 'MRR@10': 0.9166667}\n",
      "Training metrics for epoch: 4  {'MAP': 0.83711845, 'NDCG@1': 0.875, 'NDCG@5': 0.80356634, 'NDCG@10': 0.86611396, 'MRR@1': 0.875, 'MRR@5': 0.9333334, 'MRR@10': 0.9333334}\n",
      "Training metrics for epoch: 5  {'MAP': 0.8351514, 'NDCG@1': 0.875, 'NDCG@5': 0.7978619, 'NDCG@10': 0.8679655, 'MRR@1': 0.875, 'MRR@5': 0.9305556, 'MRR@10': 0.9305556}\n",
      "Training metrics for epoch: 6  {'MAP': 0.8439229, 'NDCG@1': 0.875, 'NDCG@5': 0.80888164, 'NDCG@10': 0.87302583, 'MRR@1': 0.875, 'MRR@5': 0.9285714, 'MRR@10': 0.9285714}\n",
      "2 0.8980453\n"
     ]
    }
   ],
   "source": [
    "metrics = task.build_metrics()\n",
    "model = task.build_model()\n",
    "task.initialize(model)\n",
    "train_dataset = task.build_inputs(task_config.train_data)\n",
    "train_iterator = iter(train_dataset)\n",
    "optimizer = tf.keras.optimizers.Adam(lr=1e-6)\n",
    "\n",
    "best_step = None\n",
    "best_metric = -1\n",
    "patience = 3\n",
    "for train_step in range(train_steps):\n",
    "    train_step_data = next(train_iterator)\n",
    "    task.train_step(train_step_data, model, optimizer, metrics=metrics)\n",
    "    train_metrics = {m.name: m.result().numpy() for m in metrics}\n",
    "    print(\"Training metrics for epoch: \" + str(train_step) + \" \", train_metrics)\n",
    "    if train_metrics['NDCG@10'] > best_metric:\n",
    "        best_step = train_step\n",
    "        best_metric = train_metrics['NDCG@10']\n",
    "    elif train_step > best_step + patience:\n",
    "        print(best_step, best_metric)\n",
    "        break"
   ]
  },
  {
   "cell_type": "code",
   "execution_count": 26,
   "metadata": {
    "execution": {
     "iopub.execute_input": "2023-01-19T13:52:39.926562Z",
     "iopub.status.busy": "2023-01-19T13:52:39.925924Z",
     "iopub.status.idle": "2023-01-19T13:52:42.748992Z",
     "shell.execute_reply": "2023-01-19T13:52:42.748207Z",
     "shell.execute_reply.started": "2023-01-19T13:52:39.926535Z"
    },
    "id": "l8LixgvYJqEi"
   },
   "outputs": [
    {
     "name": "stdout",
     "output_type": "stream",
     "text": [
      "Validation metrics for batch data: {'MAP': 0.84231406, 'NDCG@1': 0.859375, 'NDCG@5': 0.8127008, 'NDCG@10': 0.86925554, 'MRR@1': 0.859375, 'MRR@5': 0.921875, 'MRR@10': 0.921875}\n",
      "Validation metrics for batch data: {'MAP': 0.8410628, 'NDCG@1': 0.8472222, 'NDCG@5': 0.81567127, 'NDCG@10': 0.8663231, 'MRR@1': 0.8472222, 'MRR@5': 0.9166667, 'MRR@10': 0.9166667}\n",
      "Validation metrics for batch data: {'MAP': 0.8400618, 'NDCG@1': 0.8375, 'NDCG@5': 0.81804764, 'NDCG@10': 0.86397713, 'MRR@1': 0.8375, 'MRR@5': 0.9125, 'MRR@10': 0.9125}\n",
      "Validation metrics for batch data: {'MAP': 0.83924276, 'NDCG@1': 0.82954544, 'NDCG@5': 0.8199919, 'NDCG@10': 0.8620577, 'MRR@1': 0.82954544, 'MRR@5': 0.90909094, 'MRR@10': 0.90909094}\n",
      "Validation metrics for batch data: {'MAP': 0.8385603, 'NDCG@1': 0.8229167, 'NDCG@5': 0.8216121, 'NDCG@10': 0.86045814, 'MRR@1': 0.8229167, 'MRR@5': 0.90625, 'MRR@10': 0.90625}\n",
      "Validation metrics for batch data: {'MAP': 0.8379828, 'NDCG@1': 0.8173077, 'NDCG@5': 0.8229831, 'NDCG@10': 0.8591047, 'MRR@1': 0.8173077, 'MRR@5': 0.90384614, 'MRR@10': 0.90384614}\n",
      "Validation metrics for batch data: {'MAP': 0.83748776, 'NDCG@1': 0.8125, 'NDCG@5': 0.8241582, 'NDCG@10': 0.85794455, 'MRR@1': 0.8125, 'MRR@5': 0.90178573, 'MRR@10': 0.90178573}\n",
      "Validation metrics for batch data: {'MAP': 0.8370588, 'NDCG@1': 0.80833334, 'NDCG@5': 0.8251766, 'NDCG@10': 0.85693914, 'MRR@1': 0.80833334, 'MRR@5': 0.9, 'MRR@10': 0.9}\n",
      "Validation metrics for batch data: {'MAP': 0.8366834, 'NDCG@1': 0.8046875, 'NDCG@5': 0.82606775, 'NDCG@10': 0.8560594, 'MRR@1': 0.8046875, 'MRR@5': 0.8984375, 'MRR@10': 0.8984375}\n",
      "Validation metrics for batch data: {'MAP': 0.83635217, 'NDCG@1': 0.8014706, 'NDCG@5': 0.82685405, 'NDCG@10': 0.85528314, 'MRR@1': 0.8014706, 'MRR@5': 0.89705884, 'MRR@10': 0.89705884}\n"
     ]
    }
   ],
   "source": [
    "test_dataset = task.build_inputs(task_config.validation_data)\n",
    "test_iterator = iter(test_dataset)\n",
    "log_state = None\n",
    "for test_step_data in test_iterator:\n",
    "    test_logs = task.validation_step(test_step_data, model, metrics=metrics)\n",
    "    log_state = task.aggregate_logs(state=log_state, step_outputs=test_logs)\n",
    "    vali_metrics = {m.name: m.result().numpy() for m in metrics}\n",
    "    print(\"Validation metrics for batch data: \" + str(vali_metrics))\n",
    "pred_path = output_preds(log_state, \"test\")"
   ]
  },
  {
   "cell_type": "code",
   "execution_count": 31,
   "metadata": {
    "execution": {
     "iopub.execute_input": "2023-01-19T14:05:00.009568Z",
     "iopub.status.busy": "2023-01-19T14:05:00.008715Z",
     "iopub.status.idle": "2023-01-19T14:05:00.222739Z",
     "shell.execute_reply": "2023-01-19T14:05:00.222135Z",
     "shell.execute_reply.started": "2023-01-19T14:05:00.009543Z"
    }
   },
   "outputs": [],
   "source": [
    "prdf = pd.read_csv(pred_path)\n",
    "\n",
    "result_df = therapist_test.join(\n",
    "    prdf[prdf.columns[~prdf.columns.isin(['label'])]].set_index(['query_id', 'document_id']),\n",
    "    on=['topic_id', 'utterance_text_id']\n",
    ")\n",
    "result_df.drop_duplicates(subset=['topic_id', 'utterance_text_id']).to_csv(\n",
    "    os.path.join(os.pardir, 'predictions', 'tfrbert', 'bert_mi_quality_predictions.csv'), index=None\n",
    ")"
   ]
  }
 ],
 "metadata": {
  "colab": {
   "provenance": []
  },
  "kernelspec": {
   "display_name": "Python 3 (ipykernel)",
   "language": "python",
   "name": "python3"
  },
  "language_info": {
   "codemirror_mode": {
    "name": "ipython",
    "version": 3
   },
   "file_extension": ".py",
   "mimetype": "text/x-python",
   "name": "python",
   "nbconvert_exporter": "python",
   "pygments_lexer": "ipython3",
   "version": "3.7.6"
  }
 },
 "nbformat": 4,
 "nbformat_minor": 4
}
